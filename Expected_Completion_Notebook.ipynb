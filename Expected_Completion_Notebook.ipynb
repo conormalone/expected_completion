{
 "cells": [
  {
   "attachments": {},
   "cell_type": "markdown",
   "metadata": {},
   "source": [
    "# Expected Completion"
   ]
  },
  {
   "cell_type": "code",
   "execution_count": 32,
   "metadata": {},
   "outputs": [],
   "source": [
    "import pandas as pd\n",
    "import numpy as np"
   ]
  },
  {
   "cell_type": "code",
   "execution_count": 33,
   "metadata": {},
   "outputs": [],
   "source": [
    "plays = pd.read_csv(\"data/pass_receiver.csv\")\n",
    "pff = pd.read_csv(\"data/pffScoutingData.csv\")\n"
   ]
  },
  {
   "attachments": {},
   "cell_type": "markdown",
   "metadata": {},
   "source": [
    "read in weekly tracking files and concatenate into one tracking file, then delete weeklies"
   ]
  },
  {
   "cell_type": "code",
   "execution_count": 34,
   "metadata": {},
   "outputs": [],
   "source": [
    "week1 = pd.read_csv(\"data/week1.csv\")\n",
    "week2 = pd.read_csv(\"data/week2.csv\")\n",
    "week3 = pd.read_csv(\"data/week3.csv\")\n",
    "week4 = pd.read_csv(\"data/week4.csv\")\n",
    "week5 = pd.read_csv(\"data/week5.csv\")\n",
    "week6 = pd.read_csv(\"data/week6.csv\")\n",
    "week7 = pd.read_csv(\"data/week7.csv\")\n",
    "week8 = pd.read_csv(\"data/week8.csv\")\n",
    "tracking = pd.concat([week1,week2,week3,week4,week5,week6,week7,week8])\n"
   ]
  },
  {
   "cell_type": "code",
   "execution_count": 35,
   "metadata": {},
   "outputs": [],
   "source": [
    "#save memory\n",
    "del week1,week2,week3,week4,week5,week6,week7,week8"
   ]
  },
  {
   "cell_type": "code",
   "execution_count": 36,
   "metadata": {},
   "outputs": [
    {
     "data": {
      "text/plain": [
       "Index(['gameId', 'playId', 'nflId', 'frameId', 'time', 'jerseyNumber', 'team',\n",
       "       'playDirection', 'x', 'y', 's', 'a', 'dis', 'o', 'dir', 'event'],\n",
       "      dtype='object')"
      ]
     },
     "execution_count": 36,
     "metadata": {},
     "output_type": "execute_result"
    }
   ],
   "source": [
    "tracking.columns"
   ]
  },
  {
   "attachments": {},
   "cell_type": "markdown",
   "metadata": {},
   "source": [
    "add unique identifier of each play and frame (some playIds repeat over games)"
   ]
  },
  {
   "cell_type": "code",
   "execution_count": 37,
   "metadata": {},
   "outputs": [],
   "source": [
    "tracking[\"comb_id\"] = tracking[\"gameId\"].astype(\"str\")+\" \"+tracking[\"playId\"].astype(\"str\")\n",
    "pff[\"comb_id\"] = pff[\"gameId\"].astype(\"str\")+\" \"+pff[\"playId\"].astype(\"str\")\n",
    "plays[\"comb_id\"] = plays[\"gameId\"].astype(\"str\")+\" \"+plays[\"playId\"].astype(\"str\")\n",
    "tracking[\"comb_and_frame\"] = tracking[\"gameId\"].astype(\"str\")+\" \"+tracking[\"playId\"].astype(\"str\") + \" \"+tracking[\"frameId\"].astype(\"str\")"
   ]
  },
  {
   "attachments": {},
   "cell_type": "markdown",
   "metadata": {},
   "source": [
    "isolate frames at time of pass"
   ]
  },
  {
   "cell_type": "code",
   "execution_count": 38,
   "metadata": {},
   "outputs": [],
   "source": [
    "#isolate just forward passes and leave out a certain frame (duplicate forward pass for a play)\n",
    "just_forward_passes = tracking[(tracking[\"event\"]==\"pass_forward\") & (tracking[\"comb_and_frame\"]!=\"2021091203 3740 32\")& (tracking[\"team\"]!=\"football\")]\n",
    "#bring in receiver info from plays\n",
    "tracking_plays =just_forward_passes.merge(plays[[\"comb_id\",\"possessionTeam\",\"is_pass_failed\",\"PassReceiver_nflId\"]], how=\"left\",on=\"comb_id\" )\n",
    "#and qb info from pff\n",
    "tracking_merged_all = tracking_plays.merge(pff[[\"comb_id\",\"nflId\",\"pff_role\"]], how = \"left\",on=[\"comb_id\",\"nflId\"])"
   ]
  },
  {
   "cell_type": "code",
   "execution_count": 39,
   "metadata": {},
   "outputs": [
    {
     "data": {
      "text/plain": [
       "166034"
      ]
     },
     "execution_count": 39,
     "metadata": {},
     "output_type": "execute_result"
    }
   ],
   "source": [
    "len(just_forward_passes)"
   ]
  },
  {
   "cell_type": "code",
   "execution_count": 40,
   "metadata": {},
   "outputs": [
    {
     "data": {
      "text/plain": [
       "166276"
      ]
     },
     "execution_count": 40,
     "metadata": {},
     "output_type": "execute_result"
    }
   ],
   "source": [
    "len(tracking_plays)"
   ]
  },
  {
   "attachments": {},
   "cell_type": "markdown",
   "metadata": {},
   "source": [
    "isolate tracking to just QB, OL, receiver and defense"
   ]
  },
  {
   "cell_type": "code",
   "execution_count": 41,
   "metadata": {},
   "outputs": [],
   "source": [
    "tracking_players_filtered = tracking_merged_all[(tracking_merged_all[\"nflId\"]==tracking_merged_all[\"PassReceiver_nflId\"])|(tracking_merged_all[\"pff_role\"]==\"Pass\")|(tracking_merged_all[\"pff_role\"]==\"Pass Block\")|(tracking_merged_all[\"team\"]!=tracking_merged_all[\"possessionTeam\"])]"
   ]
  }
 ],
 "metadata": {
  "kernelspec": {
   "display_name": "Python 3",
   "language": "python",
   "name": "python3"
  },
  "language_info": {
   "codemirror_mode": {
    "name": "ipython",
    "version": 3
   },
   "file_extension": ".py",
   "mimetype": "text/x-python",
   "name": "python",
   "nbconvert_exporter": "python",
   "pygments_lexer": "ipython3",
   "version": "3.9.6"
  },
  "orig_nbformat": 4
 },
 "nbformat": 4,
 "nbformat_minor": 2
}
