{
 "cells": [
  {
   "attachments": {},
   "cell_type": "markdown",
   "metadata": {},
   "source": [
    "# Expected Completion"
   ]
  },
  {
   "cell_type": "code",
   "execution_count": 1,
   "metadata": {},
   "outputs": [],
   "source": [
    "import pandas as pd\n",
    "import numpy as np\n",
    "from scipy.spatial.distance import cdist #function to create adjacency matrix"
   ]
  },
  {
   "cell_type": "code",
   "execution_count": 2,
   "metadata": {},
   "outputs": [],
   "source": [
    "plays = pd.read_csv(\"data/pass_receiver.csv\")\n",
    "pff = pd.read_csv(\"data/pffScoutingData.csv\")\n"
   ]
  },
  {
   "attachments": {},
   "cell_type": "markdown",
   "metadata": {},
   "source": [
    "read in weekly tracking files and concatenate into one tracking file, then delete weeklies"
   ]
  },
  {
   "cell_type": "code",
   "execution_count": 3,
   "metadata": {},
   "outputs": [],
   "source": [
    "week1 = pd.read_csv(\"data/week1.csv\")\n",
    "week2 = pd.read_csv(\"data/week2.csv\")\n",
    "week3 = pd.read_csv(\"data/week3.csv\")\n",
    "week4 = pd.read_csv(\"data/week4.csv\")\n",
    "week5 = pd.read_csv(\"data/week5.csv\")\n",
    "week6 = pd.read_csv(\"data/week6.csv\")\n",
    "week7 = pd.read_csv(\"data/week7.csv\")\n",
    "week8 = pd.read_csv(\"data/week8.csv\")\n",
    "tracking = pd.concat([week1,week2,week3,week4,week5,week6,week7,week8])\n"
   ]
  },
  {
   "cell_type": "code",
   "execution_count": 4,
   "metadata": {},
   "outputs": [],
   "source": [
    "#save memory\n",
    "del week1,week2,week3,week4,week5,week6,week7,week8"
   ]
  },
  {
   "cell_type": "code",
   "execution_count": 5,
   "metadata": {},
   "outputs": [
    {
     "data": {
      "text/plain": [
       "Index(['gameId', 'playId', 'nflId', 'frameId', 'time', 'jerseyNumber', 'team',\n",
       "       'playDirection', 'x', 'y', 's', 'a', 'dis', 'o', 'dir', 'event'],\n",
       "      dtype='object')"
      ]
     },
     "execution_count": 5,
     "metadata": {},
     "output_type": "execute_result"
    }
   ],
   "source": [
    "tracking.columns"
   ]
  },
  {
   "attachments": {},
   "cell_type": "markdown",
   "metadata": {},
   "source": [
    "add unique identifier of each play and frame (some playIds repeat over games)"
   ]
  },
  {
   "cell_type": "code",
   "execution_count": 6,
   "metadata": {},
   "outputs": [],
   "source": [
    "tracking[\"comb_id\"] = tracking[\"gameId\"].astype(\"str\")+\" \"+tracking[\"playId\"].astype(\"str\")\n",
    "pff[\"comb_id\"] = pff[\"gameId\"].astype(\"str\")+\" \"+pff[\"playId\"].astype(\"str\")\n",
    "plays[\"comb_id\"] = plays[\"gameId\"].astype(\"str\")+\" \"+plays[\"playId\"].astype(\"str\")\n",
    "tracking[\"comb_and_frame\"] = tracking[\"gameId\"].astype(\"str\")+\" \"+tracking[\"playId\"].astype(\"str\")+\" \"+tracking[\"frameId\"].astype(\"str\")"
   ]
  },
  {
   "attachments": {},
   "cell_type": "markdown",
   "metadata": {},
   "source": [
    "isolate frames at time of pass"
   ]
  },
  {
   "cell_type": "code",
   "execution_count": 7,
   "metadata": {},
   "outputs": [],
   "source": [
    "#isolate just forward passes and leave out a certain frame (duplicate forward pass for a play)\n",
    "just_forward_passes = tracking[(tracking[\"event\"]==\"pass_forward\") & (tracking[\"comb_and_frame\"]!=\"2021091203 3740 32\")& (tracking[\"team\"]!=\"football\")]\n",
    "#bring in receiver info from plays\n",
    "tracking_plays =just_forward_passes.merge(plays[[\"comb_id\",\"possessionTeam\",\"is_pass_failed\",\"PassReceiver_nflId\"]], how=\"left\",on=\"comb_id\" )\n",
    "#and qb info from pff\n",
    "tracking_merged_all = tracking_plays.merge(pff[[\"comb_id\",\"nflId\",\"pff_role\"]], how = \"left\",on=[\"comb_id\",\"nflId\"])"
   ]
  },
  {
   "cell_type": "code",
   "execution_count": 8,
   "metadata": {},
   "outputs": [
    {
     "data": {
      "text/plain": [
       "166034"
      ]
     },
     "execution_count": 8,
     "metadata": {},
     "output_type": "execute_result"
    }
   ],
   "source": [
    "len(just_forward_passes)"
   ]
  },
  {
   "cell_type": "code",
   "execution_count": 9,
   "metadata": {},
   "outputs": [
    {
     "data": {
      "text/plain": [
       "166276"
      ]
     },
     "execution_count": 9,
     "metadata": {},
     "output_type": "execute_result"
    }
   ],
   "source": [
    "len(tracking_plays)"
   ]
  },
  {
   "attachments": {},
   "cell_type": "markdown",
   "metadata": {},
   "source": [
    "isolate tracking to just QB, OL, receiver and defense"
   ]
  },
  {
   "cell_type": "code",
   "execution_count": 10,
   "metadata": {},
   "outputs": [],
   "source": [
    "tracking_players_filtered = tracking_merged_all[(tracking_merged_all[\"nflId\"]==tracking_merged_all[\"PassReceiver_nflId\"])|(tracking_merged_all[\"pff_role\"]==\"Pass\")|(tracking_merged_all[\"pff_role\"]==\"Pass Block\")|(tracking_merged_all[\"team\"]!=tracking_merged_all[\"possessionTeam\"])]"
   ]
  },
  {
   "attachments": {},
   "cell_type": "markdown",
   "metadata": {},
   "source": [
    "# Function to take in 1 pass play and put it in graph format( list containing adjacency matrix, features, y) this will then be parallelized for all passes in the data"
   ]
  },
  {
   "cell_type": "code",
   "execution_count": 11,
   "metadata": {},
   "outputs": [],
   "source": [
    "sample = tracking_players_filtered[tracking_players_filtered.comb_id == \"2021090900 97\"]\n",
    "sample_dist = sample[[\"x\",\"y\"]]"
   ]
  },
  {
   "cell_type": "code",
   "execution_count": 57,
   "metadata": {},
   "outputs": [],
   "source": [
    "\n",
    "adj = cdist(sample_dist.values, sample_dist.values)\n",
    "sample = sample.reset_index()\n",
    "for index,row in sample.iterrows():\n",
    "    if (row[\"pff_role\"]==\"Coverage\" )| (row[\"pff_role\"]==\"Pass Route\"):\n",
    "        condition = ((sample[\"pff_role\"]==\"Pass Block\")|(sample[\"pff_role\"]==\"Pass\")|(sample[\"pff_role\"]==\"Pass Rush\"))\n",
    "    else:\n",
    "        condition = ((sample[\"pff_role\"]==\"Coverage\")|(sample[\"pff_role\"]==\"Pass Route\"))\n",
    "    adj[index][condition] = np.NaN\n",
    "               \n",
    "    "
   ]
  },
  {
   "attachments": {},
   "cell_type": "markdown",
   "metadata": {},
   "source": [
    "if role = Pass Route or coverage clear all not that, if role = QB or pass block or pass rush, just keep them"
   ]
  },
  {
   "cell_type": "code",
   "execution_count": 56,
   "metadata": {},
   "outputs": [],
   "source": []
  },
  {
   "cell_type": "code",
   "execution_count": 47,
   "metadata": {},
   "outputs": [
    {
     "data": {
      "text/plain": [
       "array([[ 0.        ,  3.73507697,  3.59777709,  3.78842975,  4.32786321,\n",
       "         9.98721683, 27.34748983, 31.79944811, 21.00506844, 21.88118141,\n",
       "        11.32525055, 37.95209876,  6.27459959, 14.08077413,  3.32085832,\n",
       "        18.41671252,  2.45079579,  1.78507703],\n",
       "       [ 3.73507697,  0.        ,  4.0718055 ,  3.59680414,  3.61247837,\n",
       "         7.16497732, 24.68029173, 28.63740386, 17.3403835 , 18.17851754,\n",
       "         8.41080852, 34.21754228,  4.73305398, 10.64805146,  2.83557754,\n",
       "        14.68885632,  2.84429253,  2.32845442],\n",
       "       [ 3.59777709,  4.0718055 ,  0.        ,  0.69065187,  1.25251746,\n",
       "         7.29414148, 24.15944536, 29.01162698, 20.5315976 , 21.19327488,\n",
       "         8.63229402, 36.66754696,  3.09027507, 14.37640428,  1.26051577,\n",
       "        17.16228714,  1.4707821 ,  4.17900706],\n",
       "       [ 3.78842975,  3.59680414,  0.69065187,  0.        ,  0.62625873,\n",
       "         6.69845505, 23.71833468, 28.46904459, 19.8482367 , 20.50484089,\n",
       "         8.04328913, 35.9829404 ,  2.58642611, 13.74190671,  0.7839005 ,\n",
       "        16.47344833,  1.3960659 ,  4.0634099 ],\n",
       "       [ 4.32786321,  3.61247837,  1.25251746,  0.62625873,  0.        ,\n",
       "         6.07401844, 23.11374483, 27.84345704, 19.40654786, 20.03419327,\n",
       "         7.41814667, 35.43313986,  1.97853481, 13.43831091,  1.07466274,\n",
       "        15.94454452,  1.88488726,  4.42010181],\n",
       "       [ 9.98721683,  7.16497732,  7.29414148,  6.69845505,  6.07401844,\n",
       "         0.        , 17.52520756, 21.8318712 , 15.36706218, 15.63953964,\n",
       "         1.34951843, 29.99942833,  4.27790837, 11.3991798 ,  6.80523328,\n",
       "        10.98687399,  7.66580068,  9.2788038 ],\n",
       "       [27.34748983, 24.68029173, 24.15944536, 23.71833468, 23.11374483,\n",
       "        17.52520756,  0.        ,  7.31700075, 21.85237973, 20.82494898,\n",
       "        16.27272872, 24.79532617, 21.13534007, 24.08674739, 24.04288876,\n",
       "        17.26462568, 24.92270451, 26.79400119],\n",
       "       [31.79944811, 28.63740386, 29.01162698, 28.46904459, 27.84345704,\n",
       "        21.8318712 ,  7.31700075,  0.        , 20.86935552, 19.53311547,\n",
       "        20.48523859, 18.68027034, 25.92166854, 25.25396009, 28.63303337,\n",
       "        17.55125067, 29.49710664, 30.91381568],\n",
       "       [21.00506844, 17.3403835 , 20.5315976 , 19.8482367 , 19.40654786,\n",
       "        15.36706218, 21.85237973, 20.86935552,  0.        ,  1.49217961,\n",
       "        14.78083218, 17.79299019, 18.55195138,  7.53316003, 19.39986082,\n",
       "         5.2368311 , 19.88163223, 19.31967909],\n",
       "       [21.88118141, 18.17851754, 21.19327488, 20.50484089, 20.03419327,\n",
       "        15.63953964, 20.82494898, 19.53311547,  1.49217961,  0.        ,\n",
       "        14.93796506, 16.54083734, 19.05389462,  8.77180141, 20.10024875,\n",
       "         4.93973684, 20.62902082, 20.23273091],\n",
       "       [11.32525055,  8.41080852,  8.63229402,  8.04328913,  7.41814667,\n",
       "         1.34951843, 16.27272872, 20.48523859, 14.78083218, 14.93796506,\n",
       "         0.        , 28.90004325,  5.59236086, 11.47791357,  8.15443438,\n",
       "        10.15815928,  9.01392811, 10.57219939],\n",
       "       [37.95209876, 34.21754228, 36.66754696, 35.9829404 , 35.43313986,\n",
       "        29.99942833, 24.79532617, 18.68027034, 17.79299019, 16.54083734,\n",
       "        28.90004325,  0.        , 34.057657  , 25.30335946, 35.72647898,\n",
       "        19.56352985, 36.38070093, 36.40806092],\n",
       "       [ 6.27459959,  4.73305398,  3.09027507,  2.58642611,  1.97853481,\n",
       "         4.27790837, 21.13534007, 25.92166854, 18.55195138, 19.05389462,\n",
       "         5.59236086, 34.057657  ,  0.        , 13.17367071,  2.95717771,\n",
       "        14.72016644,  3.82426464,  6.13313134],\n",
       "       [14.08077413, 10.64805146, 14.37640428, 13.74190671, 13.43831091,\n",
       "        11.3991798 , 24.08674739, 25.25396009,  7.53316003,  8.77180141,\n",
       "        11.47791357, 25.30335946, 13.17367071,  0.        , 13.14041476,\n",
       "         7.79092421, 13.42449254, 12.31825069],\n",
       "       [ 3.32085832,  2.83557754,  1.26051577,  0.7839005 ,  1.07466274,\n",
       "         6.80523328, 24.04288876, 28.63303337, 19.39986082, 20.10024875,\n",
       "         8.15443438, 35.72647898,  2.95717771, 13.14041476,  0.        ,\n",
       "        16.18187257,  0.88005682,  3.35252144],\n",
       "       [18.41671252, 14.68885632, 17.16228714, 16.47344833, 15.94454452,\n",
       "        10.98687399, 17.26462568, 17.55125067,  5.2368311 ,  4.93973684,\n",
       "        10.15815928, 19.56352985, 14.72016644,  7.79092421, 16.18187257,\n",
       "         0.        , 16.82089474, 16.92416025],\n",
       "       [ 2.45079579,  2.84429253,  1.4707821 ,  1.3960659 ,  1.88488726,\n",
       "         7.66580068, 24.92270451, 29.49710664, 19.88163223, 20.62902082,\n",
       "         9.01392811, 36.38070093,  3.82426464, 13.42449254,  0.88005682,\n",
       "        16.82089474,  0.        ,  2.71884167],\n",
       "       [ 1.78507703,  2.32845442,  4.17900706,  4.0634099 ,  4.42010181,\n",
       "         9.2788038 , 26.79400119, 30.91381568, 19.31967909, 20.23273091,\n",
       "        10.57219939, 36.40806092,  6.13313134, 12.31825069,  3.35252144,\n",
       "        16.92416025,  2.71884167,  0.        ]])"
      ]
     },
     "execution_count": 47,
     "metadata": {},
     "output_type": "execute_result"
    }
   ],
   "source": [
    "adj"
   ]
  },
  {
   "cell_type": "code",
   "execution_count": null,
   "metadata": {},
   "outputs": [],
   "source": [
    "def one_play_graph_function(data):\n",
    "    one_play_formatted_list = []\n",
    "    #first put play in adjacency matrix format, the distance of all players to each other (this will then be filtered to just link relevant players to QB or WR)\n",
    "\n",
    "    #then put play in features format, getting a table containing position, speed, orientation etc\n",
    "\n",
    "    #then get y, the response variable for this play (binary pass completed or not)\n",
    "    return one_play_formatted_list"
   ]
  }
 ],
 "metadata": {
  "kernelspec": {
   "display_name": "Python 3",
   "language": "python",
   "name": "python3"
  },
  "language_info": {
   "codemirror_mode": {
    "name": "ipython",
    "version": 3
   },
   "file_extension": ".py",
   "mimetype": "text/x-python",
   "name": "python",
   "nbconvert_exporter": "python",
   "pygments_lexer": "ipython3",
   "version": "3.9.6"
  },
  "orig_nbformat": 4
 },
 "nbformat": 4,
 "nbformat_minor": 2
}
