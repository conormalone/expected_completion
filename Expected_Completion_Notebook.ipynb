{
 "cells": [
  {
   "attachments": {},
   "cell_type": "markdown",
   "metadata": {},
   "source": [
    "# Expected Completion"
   ]
  },
  {
   "cell_type": "code",
   "execution_count": 12,
   "metadata": {},
   "outputs": [],
   "source": [
    "import pandas as pd\n",
    "import numpy as np\n",
    "from scipy.spatial.distance import cdist #function to create adjacency matrix\n",
    "import math\n",
    "import tensorflow\n",
    "import spektral\n",
    "from tensorflow.keras.layers import Dense\n",
    "from tensorflow.keras.models import Model\n",
    "from spektral.data import Dataset, BatchLoader, Graph, DisjointLoader\n",
    "from spektral.transforms.normalize_adj import NormalizeAdj\n",
    "from tensorflow.keras.layers import Dropout\n",
    "from spektral.layers import GCNConv, GlobalSumPool"
   ]
  },
  {
   "cell_type": "code",
   "execution_count": 13,
   "metadata": {},
   "outputs": [],
   "source": [
    "plays = pd.read_csv(\"data/pass_receiver.csv\")\n",
    "pff = pd.read_csv(\"data/pffScoutingData.csv\")\n"
   ]
  },
  {
   "attachments": {},
   "cell_type": "markdown",
   "metadata": {},
   "source": [
    "read in weekly tracking files and concatenate into one tracking file, then delete weeklies"
   ]
  },
  {
   "cell_type": "code",
   "execution_count": 14,
   "metadata": {},
   "outputs": [],
   "source": [
    "week1 = pd.read_csv(\"data/week1.csv\")\n",
    "week2 = pd.read_csv(\"data/week2.csv\")\n",
    "week3 = pd.read_csv(\"data/week3.csv\")\n",
    "week4 = pd.read_csv(\"data/week4.csv\")\n",
    "week5 = pd.read_csv(\"data/week5.csv\")\n",
    "week6 = pd.read_csv(\"data/week6.csv\")\n",
    "week7 = pd.read_csv(\"data/week7.csv\")\n",
    "week8 = pd.read_csv(\"data/week8.csv\")\n",
    "tracking = pd.concat([week1,week2,week3,week4,week5,week6,week7,week8])\n"
   ]
  },
  {
   "cell_type": "code",
   "execution_count": 15,
   "metadata": {},
   "outputs": [],
   "source": [
    "#save memory\n",
    "del week1,week2,week3,week4,week5,week6,week7,week8"
   ]
  },
  {
   "cell_type": "code",
   "execution_count": 16,
   "metadata": {},
   "outputs": [
    {
     "data": {
      "text/plain": [
       "Index(['gameId', 'playId', 'nflId', 'frameId', 'time', 'jerseyNumber', 'team',\n",
       "       'playDirection', 'x', 'y', 's', 'a', 'dis', 'o', 'dir', 'event'],\n",
       "      dtype='object')"
      ]
     },
     "execution_count": 16,
     "metadata": {},
     "output_type": "execute_result"
    }
   ],
   "source": [
    "tracking.columns"
   ]
  },
  {
   "attachments": {},
   "cell_type": "markdown",
   "metadata": {},
   "source": [
    "add unique identifier of each play and frame (some playIds repeat over games)"
   ]
  },
  {
   "cell_type": "code",
   "execution_count": 17,
   "metadata": {},
   "outputs": [],
   "source": [
    "tracking[\"comb_id\"] = tracking[\"gameId\"].astype(\"str\")+\" \"+tracking[\"playId\"].astype(\"str\")\n",
    "pff[\"comb_id\"] = pff[\"gameId\"].astype(\"str\")+\" \"+pff[\"playId\"].astype(\"str\")\n",
    "plays[\"comb_id\"] = plays[\"gameId\"].astype(\"str\")+\" \"+plays[\"playId\"].astype(\"str\")\n",
    "tracking[\"comb_and_frame\"] = tracking[\"gameId\"].astype(\"str\")+\" \"+tracking[\"playId\"].astype(\"str\")+\" \"+tracking[\"frameId\"].astype(\"str\")"
   ]
  },
  {
   "attachments": {},
   "cell_type": "markdown",
   "metadata": {},
   "source": [
    "isolate frames at time of pass"
   ]
  },
  {
   "cell_type": "code",
   "execution_count": 18,
   "metadata": {},
   "outputs": [],
   "source": [
    "#isolate just forward passes and leave out a certain frame (duplicate forward pass for a play)\n",
    "just_forward_passes = tracking[(tracking[\"event\"]==\"pass_forward\") & (tracking[\"comb_and_frame\"]!=\"2021091203 3740 32\")& (tracking[\"team\"]!=\"football\")]\n",
    "#bring in receiver info from plays\n",
    "tracking_plays =just_forward_passes.merge(plays[[\"comb_id\",\"possessionTeam\",\"is_pass_failed\",\"PassReceiver_nflId\"]], how=\"left\",on=\"comb_id\" )\n",
    "#and qb info from pff\n",
    "tracking_merged_all = tracking_plays.merge(pff[[\"comb_id\",\"nflId\",\"pff_role\"]], how = \"left\",on=[\"comb_id\",\"nflId\"])"
   ]
  },
  {
   "cell_type": "code",
   "execution_count": 19,
   "metadata": {},
   "outputs": [
    {
     "data": {
      "text/plain": [
       "166034"
      ]
     },
     "execution_count": 19,
     "metadata": {},
     "output_type": "execute_result"
    }
   ],
   "source": [
    "len(just_forward_passes)"
   ]
  },
  {
   "cell_type": "code",
   "execution_count": 20,
   "metadata": {},
   "outputs": [
    {
     "data": {
      "text/plain": [
       "166276"
      ]
     },
     "execution_count": 20,
     "metadata": {},
     "output_type": "execute_result"
    }
   ],
   "source": [
    "len(tracking_plays)"
   ]
  },
  {
   "attachments": {},
   "cell_type": "markdown",
   "metadata": {},
   "source": [
    "isolate tracking to just QB, OL, receiver and defense"
   ]
  },
  {
   "cell_type": "code",
   "execution_count": 21,
   "metadata": {},
   "outputs": [],
   "source": [
    "tracking_players_filtered = tracking_merged_all[(tracking_merged_all[\"nflId\"]==tracking_merged_all[\"PassReceiver_nflId\"])|(tracking_merged_all[\"pff_role\"]==\"Pass\")|(tracking_merged_all[\"pff_role\"]==\"Pass Block\")|(tracking_merged_all[\"team\"]!=tracking_merged_all[\"possessionTeam\"])]"
   ]
  },
  {
   "attachments": {},
   "cell_type": "markdown",
   "metadata": {},
   "source": [
    "# Function to take in 1 pass play and put it in graph format( list containing adjacency matrix, features, y) this will then be parallelized for all passes in the data"
   ]
  },
  {
   "cell_type": "code",
   "execution_count": 22,
   "metadata": {},
   "outputs": [],
   "source": [
    "#sample = tracking_players_filtered[tracking_players_filtered.comb_id == \"2021090900 97\"]\n",
    "#data_dist = data[[\"x\",\"y\"]]"
   ]
  },
  {
   "cell_type": "code",
   "execution_count": 23,
   "metadata": {},
   "outputs": [],
   "source": [
    "def angle_relative_diff(a,b):\n",
    "    diff_list = []\n",
    "    for i in range(len(a)):\n",
    "        difference = a[i] - b[0]\n",
    "        if difference < -180:\n",
    "            difference +=360\n",
    "        elif difference > 180:\n",
    "            difference -=360\n",
    "        diff_list.append(difference)\n",
    "    return diff_list"
   ]
  },
  {
   "cell_type": "code",
   "execution_count": 24,
   "metadata": {},
   "outputs": [],
   "source": [
    "def one_play_graph_function(data):\n",
    "    ##one_play_formatted_list = []\n",
    "    data = data.reset_index(drop=True)\n",
    "    #get y, the response variable for this play (binary pass completed or not) and possesionteam (for CV)\n",
    "    y = data[\"is_pass_failed\"][0]\n",
    "    team = data[\"possessionTeam\"][0]\n",
    "    #put play in adjacency matrix format, the distance of all players to each other (this will then be filtered to just link relevant players to QB or WR)\n",
    "    data_dist = data[[\"x\",\"y\"]]\n",
    "    adj = cdist(data_dist.values, data_dist.values)\n",
    "    for index,row in data.iterrows():\n",
    "        #connect QB to pass rush/block and wr, WR to coverage and QB, remove other connections by setting to zero\n",
    "        if (row[\"pff_role\"]==\"Coverage\" )| (row[\"pff_role\"]==\"Pass Route\"):\n",
    "            condition = ((data[\"pff_role\"]==\"Pass Block\")|(data[\"pff_role\"]==\"Pass Rush\"))\n",
    "        else:\n",
    "            condition = ((data[\"pff_role\"]==\"Coverage\"))\n",
    "        adj[index][condition] = 0\n",
    "    #then put play in features format, getting a table containing position, speed, orientation etc\n",
    "    data[\"onPossessionTeam\"] = np.where(data[\"possessionTeam\"]==data[\"team\"],1,0)\n",
    "    QB= data[data[\"pff_role\"]==\"Pass\"]\n",
    "    data[\"rel_o\"] = data[\"o\"]-QB[\"o\"].iloc[0]\n",
    "    data[\"rel_dir\"] = data[\"dir\"]-QB[\"dir\"].iloc[0]\n",
    "    data = data[[\"onPossessionTeam\",\"s\",\"rel_dir\",\"rel_o\",\"pff_role\"]]\n",
    "    one_hot = pd.get_dummies(data['pff_role'])\n",
    "    data= data.drop('pff_role',axis = 1)\n",
    "    # Join the encoded df\n",
    "    data = data.join(one_hot)\n",
    "    one_play_formatted_list = {\"team\":team,\"y\":y,\"graph_a\":adj,\"graph_x\":data}\n",
    "    return one_play_formatted_list"
   ]
  },
  {
   "cell_type": "code",
   "execution_count": 25,
   "metadata": {},
   "outputs": [],
   "source": [
    "import pickle\n",
    "import multiprocessing\n",
    "from joblib import Parallel, delayed"
   ]
  },
  {
   "cell_type": "code",
   "execution_count": 26,
   "metadata": {},
   "outputs": [],
   "source": [
    "one_game = tracking_players_filtered[tracking_players_filtered.gameId == 2021090900]\n",
    "one_game = one_game.reset_index()"
   ]
  },
  {
   "cell_type": "code",
   "execution_count": 28,
   "metadata": {},
   "outputs": [],
   "source": [
    "graph_list = []\n",
    "for i in range(len(tracking_players_filtered.comb_id.unique())):\n",
    "#for i in range(10):\n",
    "    \n",
    "    one_play = tracking_players_filtered[tracking_players_filtered.comb_id==tracking_players_filtered.comb_id.unique()[i]]\n",
    "    #print(one_game.comb_id.unique()[i])\n",
    "    one_play = one_play.reset_index(drop=True)\n",
    "    result = one_play_graph_function(one_play)\n",
    "    graph_list.append(result.copy())\n"
   ]
  },
  {
   "cell_type": "code",
   "execution_count": 39,
   "metadata": {},
   "outputs": [
    {
     "data": {
      "text/plain": [
       "{'team': 'IND',\n",
       " 'y': 1,\n",
       " 'graph_a': array([[ 0.        ,  0.        ,  0.        ,  0.        , 23.70248932,\n",
       "          0.        , 17.17797718, 29.47224627,  0.        ,  0.        ,\n",
       "          0.        ,  0.        ,  0.        , 27.01342259, 17.06435466,\n",
       "          1.35915415, 23.42563553, 33.26386929],\n",
       "        [ 0.        ,  0.        ,  6.26214021,  2.8900692 ,  2.85043856,\n",
       "          2.95853004,  0.        ,  0.        ,  3.80131556,  0.86954011,\n",
       "          5.67225705,  0.80024996,  3.12712328,  0.        ,  0.        ,\n",
       "         25.96559454,  0.        ,  0.        ],\n",
       "        [ 0.        ,  6.26214021,  0.        ,  3.80595586,  3.81903129,\n",
       "          5.76042533,  0.        ,  0.        ,  6.21034621,  6.83714122,\n",
       "          0.89403579,  7.05762   ,  3.88490669,  0.        ,  0.        ,\n",
       "         21.68747334,  0.        ,  0.        ],\n",
       "        [ 0.        ,  2.8900692 ,  3.80595586,  0.        ,  2.30670761,\n",
       "          2.12268698,  0.        ,  0.        ,  2.82462387,  3.22024844,\n",
       "          3.04213741,  3.66187111,  0.39849718,  0.        ,  0.        ,\n",
       "         23.22871499,  0.        ,  0.        ],\n",
       "        [ 0.        ,  2.85043856,  3.81903129,  2.30670761,  0.        ,\n",
       "          4.10542324,  0.        ,  0.        ,  4.94418851,  3.64067301,\n",
       "          3.50235635,  3.56552941,  2.70120344,  0.        ,  0.        ,\n",
       "         24.8983875 ,  0.        ,  0.        ],\n",
       "        [ 0.        ,  2.95853004,  5.76042533,  2.12268698,  4.10542324,\n",
       "          0.        ,  0.        ,  0.        ,  0.89269256,  2.66326867,\n",
       "          4.91495676,  3.43110769,  1.90918831,  0.        ,  0.        ,\n",
       "         23.31430891,  0.        ,  0.        ],\n",
       "        [17.17797718,  0.        ,  0.        ,  0.        , 14.5982636 ,\n",
       "          0.        ,  0.        , 12.30428381,  0.        ,  0.        ,\n",
       "          0.        ,  0.        ,  0.        , 18.02611716,  1.33180329,\n",
       "         18.52290474,  7.70156478, 16.42902614],\n",
       "        [29.47224627,  0.        ,  0.        ,  0.        , 17.52948659,\n",
       "          0.        , 12.30428381,  0.        ,  0.        ,  0.        ,\n",
       "          0.        ,  0.        ,  0.        , 20.51670783, 12.47006415,\n",
       "         30.82071057,  8.05546398,  6.32608094],\n",
       "        [ 0.        ,  3.80131556,  6.21034621,  2.82462387,  4.94418851,\n",
       "          0.89269256,  0.        ,  0.        ,  0.        ,  3.40618555,\n",
       "          5.33240096,  4.20409324,  2.53237043,  0.        ,  0.        ,\n",
       "         22.74876041,  0.        ,  0.        ],\n",
       "        [ 0.        ,  0.86954011,  6.83714122,  3.22024844,  3.64067301,\n",
       "          2.66326867,  0.        ,  0.        ,  3.40618555,  0.        ,\n",
       "          6.17739427,  0.81394103,  3.36630361,  0.        ,  0.        ,\n",
       "         25.93234274,  0.        ,  0.        ],\n",
       "        [ 0.        ,  5.67225705,  0.89403579,  3.04213741,  3.50235635,\n",
       "          4.91495676,  0.        ,  0.        ,  5.33240096,  6.17739427,\n",
       "          0.        ,  6.47250338,  3.07275121,  0.        ,  0.        ,\n",
       "         21.57732606,  0.        ,  0.        ],\n",
       "        [ 0.        ,  0.80024996,  7.05762   ,  3.66187111,  3.56552941,\n",
       "          3.43110769,  0.        ,  0.        ,  4.20409324,  0.81394103,\n",
       "          6.47250338,  0.        ,  3.87459675,  0.        ,  0.        ,\n",
       "         26.625223  ,  0.        ,  0.        ],\n",
       "        [ 0.        ,  3.12712328,  3.88490669,  0.39849718,  2.70120344,\n",
       "          1.90918831,  0.        ,  0.        ,  2.53237043,  3.36630361,\n",
       "          3.07275121,  3.87459675,  0.        ,  0.        ,  0.        ,\n",
       "         22.91069619,  0.        ,  0.        ],\n",
       "        [27.01342259,  0.        ,  0.        ,  0.        , 32.29695032,\n",
       "          0.        , 18.02611716, 20.51670783,  0.        ,  0.        ,\n",
       "          0.        ,  0.        ,  0.        ,  0.        , 19.35611531,\n",
       "         27.91227866, 23.09864498, 18.15709228],\n",
       "        [17.06435466,  0.        ,  0.        ,  0.        , 13.30540492,\n",
       "          0.        ,  1.33180329, 12.47006415,  0.        ,  0.        ,\n",
       "          0.        ,  0.        ,  0.        , 19.35611531,  0.        ,\n",
       "         18.42016558,  7.01006419, 17.00409362],\n",
       "        [ 1.35915415,  0.        ,  0.        ,  0.        , 24.8983875 ,\n",
       "          0.        , 18.52290474, 30.82071057,  0.        ,  0.        ,\n",
       "          0.        ,  0.        ,  0.        , 27.91227866, 18.42016558,\n",
       "          0.        , 24.78122071, 34.56835692],\n",
       "        [23.42563553,  0.        ,  0.        ,  0.        , 10.15214263,\n",
       "          0.        ,  7.70156478,  8.05546398,  0.        ,  0.        ,\n",
       "          0.        ,  0.        ,  0.        , 23.09864498,  7.01006419,\n",
       "         24.78122071,  0.        , 14.11932718],\n",
       "        [33.26386929,  0.        ,  0.        ,  0.        , 23.8417491 ,\n",
       "          0.        , 16.42902614,  6.32608094,  0.        ,  0.        ,\n",
       "          0.        ,  0.        ,  0.        , 18.15709228, 17.00409362,\n",
       "         34.56835692, 14.11932718,  0.        ]]),\n",
       " 'graph_x':     onPossessionTeam     s  rel_dir   rel_o  Coverage  Pass  Pass Block  \\\n",
       " 0                  0  6.13   215.22  -25.95         1     0           0   \n",
       " 1                  1  1.65    29.90 -196.61         0     0           1   \n",
       " 2                  0  3.12    55.70 -103.64         0     0           0   \n",
       " 3                  1  1.20    52.57 -245.18         0     0           1   \n",
       " 4                  1  0.72     0.00    0.00         0     1           0   \n",
       " 5                  1  0.99   -47.24  -64.56         0     0           1   \n",
       " 6                  0  5.43   129.23 -171.37         1     0           0   \n",
       " 7                  0  6.43   265.56   20.05         1     0           0   \n",
       " 8                  0  1.66   -47.62 -262.52         0     0           0   \n",
       " 9                  1  2.69    47.23 -212.68         0     0           1   \n",
       " 10                 1  2.63    54.50 -291.97         0     0           1   \n",
       " 11                 0  3.05    30.38  -78.10         0     0           0   \n",
       " 12                 0  0.66    75.84 -276.95         0     0           0   \n",
       " 13                 0  3.84   222.54 -290.50         1     0           0   \n",
       " 14                 0  0.90    58.48 -245.10         1     0           0   \n",
       " 15                 1  6.83   214.13  -64.96         0     0           0   \n",
       " 16                 0  1.05    -2.54 -299.58         1     0           0   \n",
       " 17                 0  7.30   175.74 -101.92         1     0           0   \n",
       " \n",
       "     Pass Route  Pass Rush  \n",
       " 0            0          0  \n",
       " 1            0          0  \n",
       " 2            0          1  \n",
       " 3            0          0  \n",
       " 4            0          0  \n",
       " 5            0          0  \n",
       " 6            0          0  \n",
       " 7            0          0  \n",
       " 8            0          1  \n",
       " 9            0          0  \n",
       " 10           0          0  \n",
       " 11           0          1  \n",
       " 12           0          1  \n",
       " 13           0          0  \n",
       " 14           0          0  \n",
       " 15           1          0  \n",
       " 16           0          0  \n",
       " 17           0          0  }"
      ]
     },
     "execution_count": 39,
     "metadata": {},
     "output_type": "execute_result"
    }
   ],
   "source": [
    "graph_list[7000]"
   ]
  },
  {
   "attachments": {},
   "cell_type": "markdown",
   "metadata": {},
   "source": [
    "get list of indexes of possession teams to allow masking for Cross Validation"
   ]
  },
  {
   "cell_type": "code",
   "execution_count": 37,
   "metadata": {},
   "outputs": [],
   "source": [
    "team_list = []\n",
    "for i in range(len(graph_list)):\n",
    "    team_list.append(graph_list[i][\"team\"])"
   ]
  },
  {
   "attachments": {},
   "cell_type": "markdown",
   "metadata": {},
   "source": [
    "# GNN Functions"
   ]
  },
  {
   "cell_type": "code",
   "execution_count": 40,
   "metadata": {},
   "outputs": [
    {
     "data": {
      "text/plain": [
       "{'team': 'TB',\n",
       " 'y': 1,\n",
       " 'graph_a': array([[ 0.        ,  3.73507697,  3.59777709,  3.78842975,  4.32786321,\n",
       "          9.98721683,  0.        ,  0.        , 21.00506844,  0.        ,\n",
       "         11.32525055,  0.        ,  6.27459959,  0.        ,  3.32085832,\n",
       "          0.        ,  2.45079579,  1.78507703],\n",
       "        [ 3.73507697,  0.        ,  4.0718055 ,  3.59680414,  3.61247837,\n",
       "          7.16497732,  0.        ,  0.        , 17.3403835 ,  0.        ,\n",
       "          8.41080852,  0.        ,  4.73305398,  0.        ,  2.83557754,\n",
       "          0.        ,  2.84429253,  2.32845442],\n",
       "        [ 3.59777709,  4.0718055 ,  0.        ,  0.69065187,  1.25251746,\n",
       "          7.29414148,  0.        ,  0.        , 20.5315976 ,  0.        ,\n",
       "          8.63229402,  0.        ,  3.09027507,  0.        ,  1.26051577,\n",
       "          0.        ,  1.4707821 ,  4.17900706],\n",
       "        [ 3.78842975,  3.59680414,  0.69065187,  0.        ,  0.62625873,\n",
       "          6.69845505,  0.        ,  0.        , 19.8482367 ,  0.        ,\n",
       "          8.04328913,  0.        ,  2.58642611,  0.        ,  0.7839005 ,\n",
       "          0.        ,  1.3960659 ,  4.0634099 ],\n",
       "        [ 4.32786321,  3.61247837,  1.25251746,  0.62625873,  0.        ,\n",
       "          6.07401844,  0.        ,  0.        , 19.40654786,  0.        ,\n",
       "          7.41814667,  0.        ,  1.97853481,  0.        ,  1.07466274,\n",
       "          0.        ,  1.88488726,  4.42010181],\n",
       "        [ 9.98721683,  7.16497732,  7.29414148,  6.69845505,  6.07401844,\n",
       "          0.        ,  0.        ,  0.        , 15.36706218,  0.        ,\n",
       "          1.34951843,  0.        ,  4.27790837,  0.        ,  6.80523328,\n",
       "          0.        ,  7.66580068,  9.2788038 ],\n",
       "        [27.34748983,  0.        ,  0.        ,  0.        ,  0.        ,\n",
       "          0.        ,  0.        ,  7.31700075, 21.85237973, 20.82494898,\n",
       "          0.        , 24.79532617,  0.        , 24.08674739,  0.        ,\n",
       "         17.26462568,  0.        ,  0.        ],\n",
       "        [31.79944811,  0.        ,  0.        ,  0.        ,  0.        ,\n",
       "          0.        ,  7.31700075,  0.        , 20.86935552, 19.53311547,\n",
       "          0.        , 18.68027034,  0.        , 25.25396009,  0.        ,\n",
       "         17.55125067,  0.        ,  0.        ],\n",
       "        [21.00506844,  0.        ,  0.        ,  0.        ,  0.        ,\n",
       "          0.        , 21.85237973, 20.86935552,  0.        ,  1.49217961,\n",
       "          0.        , 17.79299019,  0.        ,  7.53316003,  0.        ,\n",
       "          5.2368311 ,  0.        ,  0.        ],\n",
       "        [21.88118141,  0.        ,  0.        ,  0.        ,  0.        ,\n",
       "          0.        , 20.82494898, 19.53311547,  1.49217961,  0.        ,\n",
       "          0.        , 16.54083734,  0.        ,  8.77180141,  0.        ,\n",
       "          4.93973684,  0.        ,  0.        ],\n",
       "        [11.32525055,  8.41080852,  8.63229402,  8.04328913,  7.41814667,\n",
       "          1.34951843,  0.        ,  0.        , 14.78083218,  0.        ,\n",
       "          0.        ,  0.        ,  5.59236086,  0.        ,  8.15443438,\n",
       "          0.        ,  9.01392811, 10.57219939],\n",
       "        [37.95209876,  0.        ,  0.        ,  0.        ,  0.        ,\n",
       "          0.        , 24.79532617, 18.68027034, 17.79299019, 16.54083734,\n",
       "          0.        ,  0.        ,  0.        , 25.30335946,  0.        ,\n",
       "         19.56352985,  0.        ,  0.        ],\n",
       "        [ 6.27459959,  4.73305398,  3.09027507,  2.58642611,  1.97853481,\n",
       "          4.27790837,  0.        ,  0.        , 18.55195138,  0.        ,\n",
       "          5.59236086,  0.        ,  0.        ,  0.        ,  2.95717771,\n",
       "          0.        ,  3.82426464,  6.13313134],\n",
       "        [14.08077413,  0.        ,  0.        ,  0.        ,  0.        ,\n",
       "          0.        , 24.08674739, 25.25396009,  7.53316003,  8.77180141,\n",
       "          0.        , 25.30335946,  0.        ,  0.        ,  0.        ,\n",
       "          7.79092421,  0.        ,  0.        ],\n",
       "        [ 3.32085832,  2.83557754,  1.26051577,  0.7839005 ,  1.07466274,\n",
       "          6.80523328,  0.        ,  0.        , 19.39986082,  0.        ,\n",
       "          8.15443438,  0.        ,  2.95717771,  0.        ,  0.        ,\n",
       "          0.        ,  0.88005682,  3.35252144],\n",
       "        [18.41671252,  0.        ,  0.        ,  0.        ,  0.        ,\n",
       "          0.        , 17.26462568, 17.55125067,  5.2368311 ,  4.93973684,\n",
       "          0.        , 19.56352985,  0.        ,  7.79092421,  0.        ,\n",
       "          0.        ,  0.        ,  0.        ],\n",
       "        [ 2.45079579,  2.84429253,  1.4707821 ,  1.3960659 ,  1.88488726,\n",
       "          7.66580068,  0.        ,  0.        , 19.88163223,  0.        ,\n",
       "          9.01392811,  0.        ,  3.82426464,  0.        ,  0.88005682,\n",
       "          0.        ,  0.        ,  2.71884167],\n",
       "        [ 1.78507703,  2.32845442,  4.17900706,  4.0634099 ,  4.42010181,\n",
       "          9.2788038 ,  0.        ,  0.        , 19.31967909,  0.        ,\n",
       "         10.57219939,  0.        ,  6.13313134,  0.        ,  3.35252144,\n",
       "          0.        ,  2.71884167,  0.        ]]),\n",
       " 'graph_x':     onPossessionTeam     s  rel_dir   rel_o  Coverage  Pass  Pass Block  \\\n",
       " 0                  1  3.83     0.00    0.00         0     1           0   \n",
       " 1                  1  3.92    30.04  201.81         0     0           1   \n",
       " 2                  0  3.64    48.99  232.69         0     0           0   \n",
       " 3                  1  0.90    17.26  207.35         0     0           1   \n",
       " 4                  0  1.23   -14.55  -17.40         0     0           0   \n",
       " 5                  1  1.59  -140.84   19.14         0     0           1   \n",
       " 6                  0  3.10  -138.78  215.48         1     0           0   \n",
       " 7                  0  1.60   -68.08  -24.65         1     0           0   \n",
       " 8                  1  7.78   -43.93   -4.97         0     0           0   \n",
       " 9                  0  8.19   -52.36   23.48         1     0           0   \n",
       " 10                 0  1.53  -136.45  185.62         0     0           0   \n",
       " 11                 0  4.17   -91.83  -70.32         1     0           0   \n",
       " 12                 1  2.38   105.01  165.74         0     0           1   \n",
       " 13                 0  6.04   -18.57  -91.47         1     0           0   \n",
       " 14                 1  2.52    77.88   85.46         0     0           1   \n",
       " 15                 0  6.62  -197.56  199.50         1     0           0   \n",
       " 16                 0  3.57    14.06  157.84         0     0           0   \n",
       " 17                 0  4.44    52.17  189.75         0     0           0   \n",
       " \n",
       "     Pass Route  Pass Rush  \n",
       " 0            0          0  \n",
       " 1            0          0  \n",
       " 2            0          1  \n",
       " 3            0          0  \n",
       " 4            0          1  \n",
       " 5            0          0  \n",
       " 6            0          0  \n",
       " 7            0          0  \n",
       " 8            1          0  \n",
       " 9            0          0  \n",
       " 10           0          1  \n",
       " 11           0          0  \n",
       " 12           0          0  \n",
       " 13           0          0  \n",
       " 14           0          0  \n",
       " 15           0          0  \n",
       " 16           0          1  \n",
       " 17           0          1  }"
      ]
     },
     "execution_count": 40,
     "metadata": {},
     "output_type": "execute_result"
    }
   ],
   "source": [
    "#variables\n",
    "learning_rate = 1e-3  # Learning rate\n",
    "epochs = 100  # Number of training epochs\n",
    "es_patience = 10  # Patience for early stopping\n",
    "batch_size = 21  # Batch size"
   ]
  },
  {
   "attachments": {},
   "cell_type": "markdown",
   "metadata": {},
   "source": [
    "put data in graph format to feed in to GNN"
   ]
  },
  {
   "cell_type": "code",
   "execution_count": null,
   "metadata": {},
   "outputs": [],
   "source": [
    "class GraphDataset(Dataset):\n",
    "    def __init__(self, n_samples, df, n_outcome=1, **kwargs):\n",
    "        self.n_samples = n_samples\n",
    "        self.df = df  \n",
    "        self.n_outcome = n_outcome\n",
    "        super().__init__(**kwargs)\n",
    "\n",
    "    def read(self):\n",
    "        output = []\n",
    "        for i in range(self.n_samples):\n",
    "            # Node features\n",
    "            iter_x = self.df[i][\"graph_x\"].copy()\n",
    "            #print(iter_x)\n",
    "            x = np.array(iter_x)#.reshape(iter_x.shape)\n",
    "\n",
    "            # Edges\n",
    "            iter_a =  self.df[i][\"graph_a\"].copy()\n",
    "            the_length = len(iter_a)\n",
    "            a = np.array(iter_a).reshape(the_length,the_length)\n",
    "            #print(iter_a)\n",
    "            y = int(self.df[i][\"y\"])\n",
    "            \n",
    "           \n",
    "            output.append(Graph(x=x, a=a, y=y))\n",
    "        return(output)"
   ]
  },
  {
   "attachments": {},
   "cell_type": "markdown",
   "metadata": {},
   "source": [
    "train xCompletion model"
   ]
  },
  {
   "cell_type": "code",
   "execution_count": null,
   "metadata": {},
   "outputs": [],
   "source": [
    "class xCompletion(Model):\n",
    "\n",
    "    def __init__(self, n_hidden, n_labels):\n",
    "        super().__init__()\n",
    "        self.graph_conv = GCNConv(n_hidden)\n",
    "        self.pool = GlobalSumPool()\n",
    "        self.dropout = Dropout(0.5)\n",
    "        self.dense = Dense(n_labels, 'sigmoid')\n",
    "\n",
    "    def call(self, inputs):\n",
    "        out = self.graph_conv(inputs)\n",
    "        out = self.dropout(out)\n",
    "        out = self.pool(out)\n",
    "        out = self.dense(out)\n",
    "\n",
    "        return out"
   ]
  },
  {
   "attachments": {},
   "cell_type": "markdown",
   "metadata": {},
   "source": [
    "loop through and for each team use as val (remove from training) and store predictions"
   ]
  },
  {
   "cell_type": "code",
   "execution_count": null,
   "metadata": {},
   "outputs": [],
   "source": [
    "prediction_list = []\n",
    "for i in range(30):\n",
    "    training_data = all but team[i]\n",
    "    val_data = team[i]\n",
    "    all_data = all\n",
    "    len_train = len(training_data)\n",
    "    len_val = len(val_data)\n",
    "    len_all = len(local_all)\n",
    "    data_tr = GraphDataset(n_samples = len_train, df = training_data, transforms=NormalizeAdj())\n",
    "    data_va = GraphDataset(n_samples = len_val, df = val_data, transforms=NormalizeAdj())\n",
    "    data_all = GraphDataset(n_samples = len_all, df=al_data, transforms=NormalizeAdj())\n",
    "\n",
    "# Data loaders\n",
    "    loader_tr = BatchLoader(data_tr, batch_size=batch_size, epochs=epochs)\n",
    "    loader_va = BatchLoader(data_va, batch_size=batch_size)\n",
    "    loader_all = BatchLoader(data_all, batch_size=batch_size)\n",
    "\n",
    "    model = xCompletion(200, 1)\n",
    "    model.compile('adam', \"binary_crossentropy\",\"binary_accuracy\")\n",
    "\n",
    "    model.fit(loader_tr.load(), validation_data= loader_va.load(), steps_per_epoch=loader_tr.steps_per_epoch,\n",
    "    validation_steps=loader_va.steps_per_epoch, epochs=100)\n",
    "    predictions = model.predict(loader_all.load(), steps =loader_all.steps_per_epoch)\n",
    "    prediction_list.append(predicitions)\n",
    "    "
   ]
  }
 ],
 "metadata": {
  "kernelspec": {
   "display_name": "Python 3",
   "language": "python",
   "name": "python3"
  },
  "language_info": {
   "codemirror_mode": {
    "name": "ipython",
    "version": 3
   },
   "file_extension": ".py",
   "mimetype": "text/x-python",
   "name": "python",
   "nbconvert_exporter": "python",
   "pygments_lexer": "ipython3",
   "version": "3.9.6"
  },
  "orig_nbformat": 4
 },
 "nbformat": 4,
 "nbformat_minor": 2
}
