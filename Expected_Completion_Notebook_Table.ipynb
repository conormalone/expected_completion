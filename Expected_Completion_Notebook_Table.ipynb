{
 "cells": [
  {
   "attachments": {},
   "cell_type": "markdown",
   "metadata": {},
   "source": [
    "# Expected Completion"
   ]
  },
  {
   "attachments": {},
   "cell_type": "markdown",
   "metadata": {},
   "source": [
    "### Conor Malone 14/05/2023"
   ]
  },
  {
   "cell_type": "code",
   "execution_count": 1,
   "metadata": {},
   "outputs": [],
   "source": [
    "import pandas as pd\n",
    "import numpy as np\n",
    "import matplotlib.pyplot as plt #plot AUC\n",
    "from scipy.spatial.distance import cdist #function to get distances\n",
    "import xgboost as xgb #gradient boosted decision tree classification method\n",
    "from sklearn.metrics import accuracy_score, precision_score, recall_score, precision_recall_curve, f1_score, classification_report, mean_squared_error, log_loss,confusion_matrix, roc_curve, auc #metrics to assess model"
   ]
  },
  {
   "cell_type": "code",
   "execution_count": 2,
   "metadata": {},
   "outputs": [],
   "source": [
    "plays = pd.read_csv(\"data/pass_receiver.csv\")\n",
    "pff = pd.read_csv(\"data/pffScoutingData.csv\")\n",
    "games = pd.read_csv(\"data/games.csv\")"
   ]
  },
  {
   "attachments": {},
   "cell_type": "markdown",
   "metadata": {},
   "source": [
    "read in weekly tracking files and concatenate into one tracking file, then delete weeklies"
   ]
  },
  {
   "cell_type": "code",
   "execution_count": 3,
   "metadata": {},
   "outputs": [],
   "source": [
    "week1 = pd.read_csv(\"data/week1.csv\")\n",
    "week2 = pd.read_csv(\"data/week2.csv\")\n",
    "week3 = pd.read_csv(\"data/week3.csv\")\n",
    "week4 = pd.read_csv(\"data/week4.csv\")\n",
    "week5 = pd.read_csv(\"data/week5.csv\")\n",
    "week6 = pd.read_csv(\"data/week6.csv\")\n",
    "week7 = pd.read_csv(\"data/week7.csv\")\n",
    "week8 = pd.read_csv(\"data/week8.csv\")\n",
    "tracking = pd.concat([week1,week2,week3,week4,week5,week6,week7,week8])\n"
   ]
  },
  {
   "cell_type": "code",
   "execution_count": 4,
   "metadata": {},
   "outputs": [],
   "source": [
    "#save memory\n",
    "del week1,week2,week3,week4,week5,week6,week7,week8"
   ]
  },
  {
   "cell_type": "code",
   "execution_count": 5,
   "metadata": {},
   "outputs": [],
   "source": [
    "plays = plays.merge(games[[\"gameId\",\"homeTeamAbbr\"]], on = \"gameId\")\n",
    "plays[\"possTeamScoreDiff\"] = np.where(plays[\"homeTeamAbbr\"]==plays[\"possessionTeam\"],plays[\"preSnapHomeScore\"]-plays[\"preSnapVisitorScore\"],plays[\"preSnapVisitorScore\"]-plays[\"preSnapHomeScore\"])\n",
    "plays[\"possTeamInLead\"] = np.where(plays[\"possTeamScoreDiff\"]>0,1,0)"
   ]
  },
  {
   "attachments": {},
   "cell_type": "markdown",
   "metadata": {},
   "source": [
    "add unique identifier of each play and frame (some playIds repeat over games)"
   ]
  },
  {
   "cell_type": "code",
   "execution_count": 6,
   "metadata": {},
   "outputs": [],
   "source": [
    "tracking[\"comb_id\"] = tracking[\"gameId\"].astype(\"str\")+\" \"+tracking[\"playId\"].astype(\"str\")\n",
    "pff[\"comb_id\"] = pff[\"gameId\"].astype(\"str\")+\" \"+pff[\"playId\"].astype(\"str\")\n",
    "plays[\"comb_id\"] = plays[\"gameId\"].astype(\"str\")+\" \"+plays[\"playId\"].astype(\"str\")\n",
    "tracking[\"comb_and_frame\"] = tracking[\"gameId\"].astype(\"str\")+\" \"+tracking[\"playId\"].astype(\"str\")+\" \"+tracking[\"frameId\"].astype(\"str\")"
   ]
  },
  {
   "attachments": {},
   "cell_type": "markdown",
   "metadata": {},
   "source": [
    "isolate frames at time of pass"
   ]
  },
  {
   "cell_type": "code",
   "execution_count": 7,
   "metadata": {},
   "outputs": [],
   "source": [
    "#isolate just forward passes and leave out a certain frame (duplicate forward pass for a play)\n",
    "just_forward_passes = tracking[(tracking[\"event\"]==\"pass_forward\") & (tracking[\"comb_and_frame\"]!=\"2021091203 3740 32\")& (tracking[\"team\"]!=\"football\")]\n",
    "#bring in receiver info from plays\n",
    "tracking_plays =just_forward_passes.merge(plays[[\"comb_id\",\"possessionTeam\",\"is_pass_failed\",\"PassReceiver_nflId\",\"down\",\"yardsToGo\",\"yardlineNumber\",\"possTeamScoreDiff\",\"possTeamInLead\"]], how=\"left\",on=\"comb_id\" )\n",
    "#and qb info from pff\n",
    "tracking_merged_all = tracking_plays.merge(pff[[\"comb_id\",\"nflId\",\"pff_role\"]], how = \"left\",on=[\"comb_id\",\"nflId\"])"
   ]
  },
  {
   "attachments": {},
   "cell_type": "markdown",
   "metadata": {},
   "source": [
    "# Function to take in 1 pass play and  format it"
   ]
  },
  {
   "cell_type": "code",
   "execution_count": 8,
   "metadata": {},
   "outputs": [],
   "source": [
    "def one_play_function(data):\n",
    "    one_play_formatted_list = pd.DataFrame()\n",
    "    data = data.reset_index(drop=True)\n",
    "    comb_id = data[\"comb_id\"][0]\n",
    "    #get y, the response variable for this play (binary pass completed or not) and possesionteam (for CV)\n",
    "    y = data[\"is_pass_failed\"][0]\n",
    "    team = data[\"possessionTeam\"][0]\n",
    "    QB = data[data[\"pff_role\"]==\"Pass\"].head(1)\n",
    "    WR = data[data[\"nflId\"]==data[\"PassReceiver_nflId\"]]\n",
    "    #if no clear receiver just pick anyone\n",
    "    if len(WR)==0:\n",
    "        WR = data[data[\"pff_role\"]==\"Pass Route\"].head(1)\n",
    " \n",
    "    qb_loc = QB[[\"x\",\"y\"]]\n",
    "    wr_loc = WR[[\"x\",\"y\"]]\n",
    "    coverage_loc = data[[\"x\",\"y\"]][data[\"pff_role\"]==\"Coverage\"]\n",
    "    rush_loc = data[[\"x\",\"y\"]][data[\"pff_role\"]==\"Pass Rush\"]\n",
    "    #put play in adjacency matrix format, the distance of all players to each other (this will then be filtered to just link relevant players to QB or WR)\n",
    "    QB_dist = min((i for i in cdist(qb_loc.values,wr_loc.values)[0] if i is not None),default=[])\n",
    "    Coverage_dist = min((i for i in cdist(coverage_loc.values,wr_loc.values)[0] if i is not None),default=[])\n",
    "    if len(rush_loc)==0:\n",
    "        Rush_dist = None\n",
    "    else:\n",
    "        Rush_dist = min((i for i in cdist(rush_loc.values,qb_loc.values)[0] if i is not None),default=[])#min((i for i in cdist(rush_loc.values,qb_loc.values)[0] if i is not None),default=[])\n",
    "    #then put play in features format, getting a table containing position, speed, orientation etc\n",
    "    rel_o = WR[\"o\"].iloc[0]-QB[\"o\"].iloc[0]\n",
    "    rel_dir = WR[\"dir\"].iloc[0]-QB[\"dir\"].iloc[0]\n",
    "    wr_s = WR[\"s\"]\n",
    "    qb_s = QB[\"s\"]\n",
    "    one_play = pd.DataFrame({\"comb_id\":comb_id,\"y\":y,\"Team\":team,\"QB_Dist\":QB_dist,\"DB_Dist\":Coverage_dist,\"Rush_Dist\":Rush_dist,\"Orientation\":rel_o,\"Direction\":rel_dir,\"WR_Speed\":WR[\"s\"],\"QB_Speed\":QB[\"s\"],\"down\":WR[\"down\"],\"yardsToGo\":WR[\"yardsToGo\"],\"yardLine\":WR[\"yardlineNumber\"],\"ScoreDiff\":WR[\"possTeamScoreDiff\"],\"inLead\":WR[\"possTeamInLead\"]})\n",
    "    \n",
    "    \n",
    "    one_play_formatted_list = pd.concat([one_play_formatted_list,one_play], ignore_index = True)\n",
    "    return one_play_formatted_list"
   ]
  },
  {
   "attachments": {},
   "cell_type": "markdown",
   "metadata": {},
   "source": [
    "run function on each play in dataset"
   ]
  },
  {
   "cell_type": "code",
   "execution_count": 9,
   "metadata": {},
   "outputs": [],
   "source": [
    "table_list = pd.DataFrame()\n",
    "for i in range(len(tracking_merged_all.comb_id.unique())):    \n",
    "    one_play = tracking_merged_all[tracking_merged_all.comb_id==tracking_merged_all.comb_id.unique()[i]]\n",
    "    one_play = one_play.reset_index(drop=True)\n",
    "    result = one_play_function(one_play)\n",
    "    table_list = pd.concat([table_list,result],ignore_index=True)\n"
   ]
  },
  {
   "attachments": {},
   "cell_type": "markdown",
   "metadata": {},
   "source": [
    "workaround to stop adding duplicate cols when qb_speed is included"
   ]
  },
  {
   "cell_type": "code",
   "execution_count": 10,
   "metadata": {},
   "outputs": [],
   "source": [
    "\n",
    "qb_speed = table_list[[\"comb_id\",\"QB_Speed\"]][~table_list.QB_Speed.isna()]\n",
    "tab_2 = table_list[table_list.QB_Speed.isna()].drop(\"QB_Speed\", axis=1)\n",
    "tab_2 = tab_2.merge(qb_speed, on = \"comb_id\")\n",
    "table_list = tab_2"
   ]
  },
  {
   "attachments": {},
   "cell_type": "markdown",
   "metadata": {},
   "source": [
    "Cross Validation with k = 32 by loop through and for each team use as val (remove from training) and store predictions"
   ]
  },
  {
   "cell_type": "code",
   "execution_count": 56,
   "metadata": {},
   "outputs": [],
   "source": [
    "# Define the XGBoost model\n",
    "model = xgb.XGBClassifier()\n",
    "unique_team_list = table_list.Team.unique()\n",
    "prediction_list = []\n",
    "#cross validate leaving out each team once\n",
    "#for i in range(len(unique_team_list)):\n",
    "for i in range(5):\n",
    "    train = table_list[table_list[\"Team\"]!=unique_team_list[i]]\n",
    "    val = table_list[table_list[\"Team\"]==unique_team_list[i]]\n",
    "    x_train = np.array(train.loc[:, \"QB_Dist\":\"QB_Speed\"])\n",
    "    y_train = np.array(train.loc[:,\"y\"])\n",
    "    model.fit(x_train, y_train)\n",
    "    predictions = model.predict(np.array(table_list.loc[:, \"QB_Dist\":\"QB_Speed\"]))\n",
    "    prediction_list.append(predictions)"
   ]
  },
  {
   "attachments": {},
   "cell_type": "markdown",
   "metadata": {},
   "source": [
    "get average prediction for each play from the 32 runs"
   ]
  },
  {
   "cell_type": "code",
   "execution_count": 57,
   "metadata": {},
   "outputs": [],
   "source": [
    "model_output2 = np.mean(prediction_list, axis=0)"
   ]
  },
  {
   "cell_type": "code",
   "execution_count": 58,
   "metadata": {},
   "outputs": [
    {
     "data": {
      "text/plain": [
       "7558"
      ]
     },
     "execution_count": 58,
     "metadata": {},
     "output_type": "execute_result"
    }
   ],
   "source": [
    "len(model_output2)"
   ]
  },
  {
   "cell_type": "code",
   "execution_count": 59,
   "metadata": {},
   "outputs": [],
   "source": [
    "table_list2 = table_list.copy()\n",
    "table_list2[\"pred\"] = model_output2.tolist()\n",
    "\n",
    "y_test = table_list2[\"y\"]\n",
    "y_pred = np.where(table_list2[\"pred\"]>.5,1,0)"
   ]
  },
  {
   "cell_type": "code",
   "execution_count": 60,
   "metadata": {},
   "outputs": [
    {
     "data": {
      "text/plain": [
       "0.054644085736967454"
      ]
     },
     "execution_count": 60,
     "metadata": {},
     "output_type": "execute_result"
    }
   ],
   "source": [
    "mean_squared_error(y_test, y_pred)"
   ]
  },
  {
   "cell_type": "code",
   "execution_count": 61,
   "metadata": {},
   "outputs": [],
   "source": [
    "accuracy = accuracy_score(y_test, y_pred)\n",
    "precision = precision_score(y_test, y_pred)\n",
    "recall = recall_score(y_test, y_pred)\n",
    "f1 = f1_score(y_test, y_pred, average='binary')"
   ]
  },
  {
   "cell_type": "code",
   "execution_count": 62,
   "metadata": {},
   "outputs": [
    {
     "name": "stdout",
     "output_type": "stream",
     "text": [
      "0.9453559142630326\n"
     ]
    }
   ],
   "source": [
    "print(accuracy)"
   ]
  },
  {
   "cell_type": "code",
   "execution_count": 63,
   "metadata": {},
   "outputs": [
    {
     "name": "stdout",
     "output_type": "stream",
     "text": [
      "0.982830980541778\n"
     ]
    }
   ],
   "source": [
    "print(precision)"
   ]
  },
  {
   "cell_type": "code",
   "execution_count": 64,
   "metadata": {},
   "outputs": [
    {
     "name": "stdout",
     "output_type": "stream",
     "text": [
      "0.875\n"
     ]
    }
   ],
   "source": [
    "print(recall)"
   ]
  },
  {
   "cell_type": "code",
   "execution_count": 65,
   "metadata": {},
   "outputs": [
    {
     "name": "stdout",
     "output_type": "stream",
     "text": [
      "0.9257861635220126\n"
     ]
    }
   ],
   "source": [
    "print(f1)"
   ]
  },
  {
   "cell_type": "code",
   "execution_count": 66,
   "metadata": {},
   "outputs": [
    {
     "name": "stdout",
     "output_type": "stream",
     "text": [
      "              precision    recall  f1-score   support\n",
      "\n",
      "           0       0.93      0.99      0.96      4614\n",
      "           1       0.98      0.88      0.93      2944\n",
      "\n",
      "    accuracy                           0.95      7558\n",
      "   macro avg       0.95      0.93      0.94      7558\n",
      "weighted avg       0.95      0.95      0.94      7558\n",
      "\n"
     ]
    }
   ],
   "source": [
    "print(classification_report(y_test, y_pred))"
   ]
  },
  {
   "cell_type": "code",
   "execution_count": 67,
   "metadata": {},
   "outputs": [
    {
     "data": {
      "text/plain": [
       "0.9326235370611183"
      ]
     },
     "execution_count": 67,
     "metadata": {},
     "output_type": "execute_result"
    }
   ],
   "source": [
    "fpr, tpr, thresholds = roc_curve(y_test, y_pred, pos_label=1)\n",
    "auc(fpr, tpr)"
   ]
  },
  {
   "cell_type": "code",
   "execution_count": 68,
   "metadata": {},
   "outputs": [
    {
     "data": {
      "text/plain": [
       "0.6651429379678315"
      ]
     },
     "execution_count": 68,
     "metadata": {},
     "output_type": "execute_result"
    }
   ],
   "source": [
    "log_loss(y_test,table_list2[\"pred\"])"
   ]
  },
  {
   "cell_type": "code",
   "execution_count": 69,
   "metadata": {},
   "outputs": [
    {
     "data": {
      "image/png": "[encoded data removed]",
      "text/plain": [
       "<Figure size 640x480 with 1 Axes>"
      ]
     },
     "metadata": {},
     "output_type": "display_data"
    }
   ],
   "source": [
    "def plot_roc_curve(fpr,tpr,label=None):\n",
    "    plt.plot(fpr,tpr,linewidth=2,label=\"ROC\")\n",
    "    plt.plot([0,1],[0,1],'k--')\n",
    "plot_roc_curve(fpr,tpr)\n",
    "plt.legend(loc=\"lower right\")\n",
    "plt.show()"
   ]
  },
  {
   "cell_type": "code",
   "execution_count": 70,
   "metadata": {},
   "outputs": [
    {
     "data": {
      "image/png": "[encoded data removed]",
      "text/plain": [
       "<Figure size 640x480 with 1 Axes>"
      ]
     },
     "metadata": {},
     "output_type": "display_data"
    }
   ],
   "source": [
    "precisions,recalls,thresholds = precision_recall_curve(y_test,y_pred)\n",
    "def plot_precision_recall_vs_threshold(precisions,recalls,thresholds):\n",
    "    plt.plot(thresholds,precisions[:-1],\"b--\",label=\"Precision\")\n",
    "    plt.plot(thresholds,recalls[:-1],\"g--\",label=\"Recall\")\n",
    "plot_precision_recall_vs_threshold(precisions,recalls,thresholds)\n",
    "plt.show()"
   ]
  },
  {
   "cell_type": "code",
   "execution_count": 71,
   "metadata": {},
   "outputs": [
    {
     "data": {
      "text/plain": [
       "array([[4569,   45],\n",
       "       [ 368, 2576]], dtype=int64)"
      ]
     },
     "execution_count": 71,
     "metadata": {},
     "output_type": "execute_result"
    }
   ],
   "source": [
    "confusion_matrix(y_test, y_pred)"
   ]
  },
  {
   "attachments": {},
   "cell_type": "markdown",
   "metadata": {},
   "source": [
    "add player names to get QB and Receiver for all plays"
   ]
  },
  {
   "cell_type": "code",
   "execution_count": 72,
   "metadata": {},
   "outputs": [],
   "source": [
    "players = pd.read_csv(\"data/players.csv\")\n",
    "pff_qbs = pff[pff[\"pff_role\"]==\"Pass\"]\n",
    "pff_names = pff_qbs.merge(players[[\"nflId\",\"displayName\"]], on = \"nflId\")\n",
    "table_list3 = table_list2.merge(pff_names[[\"comb_id\",\"displayName\"]], on = \"comb_id\")\n",
    "table_list4 = table_list3.merge(plays[[\"comb_id\",\"PassReceiver_displayName\"]], on = \"comb_id\")"
   ]
  }
 ],
 "metadata": {
  "kernelspec": {
   "display_name": "Python 3",
   "language": "python",
   "name": "python3"
  },
  "language_info": {
   "codemirror_mode": {
    "name": "ipython",
    "version": 3
   },
   "file_extension": ".py",
   "mimetype": "text/x-python",
   "name": "python",
   "nbconvert_exporter": "python",
   "pygments_lexer": "ipython3",
   "version": "3.9.6"
  },
  "orig_nbformat": 4
 },
 "nbformat": 4,
 "nbformat_minor": 2
}
