{
 "cells": [
  {
   "attachments": {},
   "cell_type": "markdown",
   "metadata": {},
   "source": [
    "# Expected Completion"
   ]
  },
  {
   "cell_type": "code",
   "execution_count": 43,
   "metadata": {},
   "outputs": [],
   "source": [
    "import pandas as pd\n",
    "import numpy as np\n",
    "import matplotlib.pyplot as plt\n",
    "from scipy.spatial.distance import cdist #function to get distances\n",
    "import xgboost as xgb #gradient boosted decision tree classification method\n",
    "from sklearn.metrics import accuracy_score, precision_score, recall_score, precision_recall_curve, f1_score, classification_report, mean_squared_error, log_loss,confusion_matrix, roc_curve, auc #metrics to assess model"
   ]
  },
  {
   "cell_type": "code",
   "execution_count": 3,
   "metadata": {},
   "outputs": [],
   "source": [
    "plays = pd.read_csv(\"data/pass_receiver.csv\")\n",
    "pff = pd.read_csv(\"data/pffScoutingData.csv\")\n",
    "games = pd.read_csv(\"data/games.csv\")"
   ]
  },
  {
   "attachments": {},
   "cell_type": "markdown",
   "metadata": {},
   "source": [
    "read in weekly tracking files and concatenate into one tracking file, then delete weeklies"
   ]
  },
  {
   "cell_type": "code",
   "execution_count": 4,
   "metadata": {},
   "outputs": [],
   "source": [
    "week1 = pd.read_csv(\"data/week1.csv\")\n",
    "week2 = pd.read_csv(\"data/week2.csv\")\n",
    "week3 = pd.read_csv(\"data/week3.csv\")\n",
    "week4 = pd.read_csv(\"data/week4.csv\")\n",
    "week5 = pd.read_csv(\"data/week5.csv\")\n",
    "week6 = pd.read_csv(\"data/week6.csv\")\n",
    "week7 = pd.read_csv(\"data/week7.csv\")\n",
    "week8 = pd.read_csv(\"data/week8.csv\")\n",
    "tracking = pd.concat([week1,week2,week3,week4,week5,week6,week7,week8])\n"
   ]
  },
  {
   "cell_type": "code",
   "execution_count": 5,
   "metadata": {},
   "outputs": [],
   "source": [
    "#save memory\n",
    "del week1,week2,week3,week4,week5,week6,week7,week8"
   ]
  },
  {
   "cell_type": "code",
   "execution_count": 6,
   "metadata": {},
   "outputs": [],
   "source": [
    "plays = plays.merge(games[[\"gameId\",\"homeTeamAbbr\"]], on = \"gameId\")\n",
    "plays[\"possTeamScoreDiff\"] = np.where(plays[\"homeTeamAbbr\"]==plays[\"possessionTeam\"],plays[\"preSnapHomeScore\"]-plays[\"preSnapVisitorScore\"],plays[\"preSnapVisitorScore\"]-plays[\"preSnapHomeScore\"])\n",
    "plays[\"possTeamInLead\"] = np.where(plays[\"possTeamScoreDiff\"]>0,1,0)"
   ]
  },
  {
   "attachments": {},
   "cell_type": "markdown",
   "metadata": {},
   "source": [
    "add unique identifier of each play and frame (some playIds repeat over games)"
   ]
  },
  {
   "cell_type": "code",
   "execution_count": 7,
   "metadata": {},
   "outputs": [],
   "source": [
    "tracking[\"comb_id\"] = tracking[\"gameId\"].astype(\"str\")+\" \"+tracking[\"playId\"].astype(\"str\")\n",
    "pff[\"comb_id\"] = pff[\"gameId\"].astype(\"str\")+\" \"+pff[\"playId\"].astype(\"str\")\n",
    "plays[\"comb_id\"] = plays[\"gameId\"].astype(\"str\")+\" \"+plays[\"playId\"].astype(\"str\")\n",
    "tracking[\"comb_and_frame\"] = tracking[\"gameId\"].astype(\"str\")+\" \"+tracking[\"playId\"].astype(\"str\")+\" \"+tracking[\"frameId\"].astype(\"str\")"
   ]
  },
  {
   "attachments": {},
   "cell_type": "markdown",
   "metadata": {},
   "source": [
    "isolate frames at time of pass"
   ]
  },
  {
   "cell_type": "code",
   "execution_count": 8,
   "metadata": {},
   "outputs": [],
   "source": [
    "#isolate just forward passes and leave out a certain frame (duplicate forward pass for a play)\n",
    "just_forward_passes = tracking[(tracking[\"event\"]==\"pass_forward\") & (tracking[\"comb_and_frame\"]!=\"2021091203 3740 32\")& (tracking[\"team\"]!=\"football\")]\n",
    "#bring in receiver info from plays\n",
    "tracking_plays =just_forward_passes.merge(plays[[\"comb_id\",\"possessionTeam\",\"is_pass_failed\",\"PassReceiver_nflId\",\"down\",\"yardsToGo\",\"yardlineNumber\",\"possTeamScoreDiff\",\"possTeamInLead\"]], how=\"left\",on=\"comb_id\" )\n",
    "#and qb info from pff\n",
    "tracking_merged_all = tracking_plays.merge(pff[[\"comb_id\",\"nflId\",\"pff_role\"]], how = \"left\",on=[\"comb_id\",\"nflId\"])"
   ]
  },
  {
   "attachments": {},
   "cell_type": "markdown",
   "metadata": {},
   "source": [
    "isolate tracking to just QB, OL, receiver and defense"
   ]
  },
  {
   "cell_type": "code",
   "execution_count": 9,
   "metadata": {},
   "outputs": [],
   "source": [
    "#comb_id\n",
    "#y\n",
    "#team\n",
    "#QB_dist\n",
    "#Coverage_dist\n",
    "#Rush_dist\n",
    "#rel_o\n",
    "#rel_dir\n",
    "#WR[\"s\"]\n",
    "#QB[\"s\"]\n",
    "#WR[\"down\"]\n",
    "#WR[\"yardsToGo\"]\n",
    "#WR[\"yardlineNumber\"]\n",
    "#WR[\"possTeamScoreDiff\"]\n",
    "#WR[\"possTeamInLead\"]"
   ]
  },
  {
   "cell_type": "code",
   "execution_count": 23,
   "metadata": {},
   "outputs": [],
   "source": [
    "data = tracking_merged_all[tracking_merged_all[\"comb_id\"]==\"2021091203 3740\"]\n",
    "one_play_formatted_list = pd.DataFrame()#{\"y\",\"Team\",\"QB_Dist\",\"DB_Dist\",\"Orientation\",\"Direction\",\"WR_Speed\",\"QB_Speed\",\"down\",\"yardsToGo\",\"yardLine\",\"ScoreDiff\",\"inLead\"})\n",
    "data = data.reset_index(drop=True)\n",
    "comb_id = data[\"comb_id\"][0]\n",
    "    #get y, the response variable for this play (binary pass completed or not) and possesionteam (for CV)\n",
    "y = data[\"is_pass_failed\"][0]\n",
    "team = data[\"possessionTeam\"][0]\n",
    "QB = data[data[\"pff_role\"]==\"Pass\"]\n",
    "WR = data[data[\"nflId\"]==data[\"PassReceiver_nflId\"]]\n",
    "    #if no clear receiver just pick anyone\n",
    "if len(WR)==0:\n",
    "    WR = data[data[\"pff_role\"]==\"Pass Route\"].head(1)\n",
    " \n",
    "qb_loc = QB[[\"x\",\"y\"]]\n",
    "wr_loc = WR[[\"x\",\"y\"]]\n",
    "coverage_loc = data[[\"x\",\"y\"]][data[\"pff_role\"]==\"Coverage\"]\n",
    "rush_loc = data[[\"x\",\"y\"]][data[\"pff_role\"]==\"Pass Rush\"]\n",
    "#put play in adjacency matrix format, the distance of all players to each other (this will then be filtered to just link relevant players to QB or WR)\n",
    "QB_dist = min((i for i in cdist(qb_loc.values,wr_loc.values)[0] if i is not None),default=[])\n",
    "Coverage_dist = min((i for i in cdist(coverage_loc.values,wr_loc.values)[0] if i is not None),default=[])\n",
    "Rush_dist = min((i for i in cdist(rush_loc.values,qb_loc.values)[0] if i is not None),default=[])\n",
    "    #then put play in features format, getting a table containing position, speed, orientation etc\n",
    "rel_o = WR[\"o\"].iloc[0]-QB[\"o\"].iloc[0]\n",
    "rel_dir = WR[\"dir\"].iloc[0]-QB[\"dir\"].iloc[0]\n",
    "    #wr_s = WR[\"s\"]\n",
    "    #qb_s = QB[\"s\"]\n",
    "one_play = pd.DataFrame({\"comb_id\":comb_id,\"y\":y,\"Team\":team,\"QB_Dist\":QB_dist,\"DB_Dist\":Coverage_dist,\"Rush_Dist\":Rush_dist,\"Orientation\":rel_o,\"Direction\":rel_dir,\"WR_Speed\":WR[\"s\"],\"QB_Speed\":QB[\"s\"],\"down\":WR[\"down\"],\"yardsToGo\":WR[\"yardsToGo\"],\"yardLine\":WR[\"yardlineNumber\"],\"ScoreDiff\":WR[\"possTeamScoreDiff\"],\"inLead\":WR[\"possTeamInLead\"]})\n",
    "    \n",
    "    "
   ]
  },
  {
   "cell_type": "code",
   "execution_count": 25,
   "metadata": {},
   "outputs": [
    {
     "data": {
      "text/plain": [
       "21    3.24\n",
       "Name: s, dtype: float64"
      ]
     },
     "execution_count": 25,
     "metadata": {},
     "output_type": "execute_result"
    }
   ],
   "source": [
    "WR[\"s\"]"
   ]
  },
  {
   "attachments": {},
   "cell_type": "markdown",
   "metadata": {},
   "source": [
    "# Function to take in 1 pass play and  format it"
   ]
  },
  {
   "cell_type": "code",
   "execution_count": 47,
   "metadata": {},
   "outputs": [],
   "source": [
    "def one_play_function(data):\n",
    "    one_play_formatted_list = pd.DataFrame()#{\"y\",\"Team\",\"QB_Dist\",\"DB_Dist\",\"Orientation\",\"Direction\",\"WR_Speed\",\"QB_Speed\",\"down\",\"yardsToGo\",\"yardLine\",\"ScoreDiff\",\"inLead\"})\n",
    "    data = data.reset_index(drop=True)\n",
    "    comb_id = data[\"comb_id\"][0]\n",
    "    #get y, the response variable for this play (binary pass completed or not) and possesionteam (for CV)\n",
    "    y = data[\"is_pass_failed\"][0]\n",
    "    team = data[\"possessionTeam\"][0]\n",
    "    QB = data[data[\"pff_role\"]==\"Pass\"].head(1)\n",
    "    WR = data[data[\"nflId\"]==data[\"PassReceiver_nflId\"]]\n",
    "    #if no clear receiver just pick anyone\n",
    "    if len(WR)==0:\n",
    "        WR = data[data[\"pff_role\"]==\"Pass Route\"].head(1)\n",
    " \n",
    "    qb_loc = QB[[\"x\",\"y\"]]\n",
    "    wr_loc = WR[[\"x\",\"y\"]]\n",
    "    coverage_loc = data[[\"x\",\"y\"]][data[\"pff_role\"]==\"Coverage\"]\n",
    "    rush_loc = data[[\"x\",\"y\"]][data[\"pff_role\"]==\"Pass Rush\"]\n",
    "    #put play in adjacency matrix format, the distance of all players to each other (this will then be filtered to just link relevant players to QB or WR)\n",
    "    QB_dist = min((i for i in cdist(qb_loc.values,wr_loc.values)[0] if i is not None),default=[])\n",
    "    Coverage_dist = min((i for i in cdist(coverage_loc.values,wr_loc.values)[0] if i is not None),default=[])\n",
    "    if len(rush_loc)==0:\n",
    "        Rush_dist = None\n",
    "    else:\n",
    "        Rush_dist = min((i for i in cdist(rush_loc.values,qb_loc.values)[0] if i is not None),default=[])#min((i for i in cdist(rush_loc.values,qb_loc.values)[0] if i is not None),default=[])\n",
    "    #then put play in features format, getting a table containing position, speed, orientation etc\n",
    "    rel_o = WR[\"o\"].iloc[0]-QB[\"o\"].iloc[0]\n",
    "    rel_dir = WR[\"dir\"].iloc[0]-QB[\"dir\"].iloc[0]\n",
    "    wr_s = WR[\"s\"]\n",
    "    qb_s = QB[\"s\"]\n",
    "    one_play = pd.DataFrame({\"comb_id\":comb_id,\"y\":y,\"Team\":team,\"QB_Dist\":QB_dist,\"DB_Dist\":Coverage_dist,\"Rush_Dist\":Rush_dist,\"Orientation\":rel_o,\"Direction\":rel_dir,\"WR_Speed\":WR[\"s\"],\"QB_Speed\":QB[\"s\"],\"down\":WR[\"down\"],\"yardsToGo\":WR[\"yardsToGo\"],\"yardLine\":WR[\"yardlineNumber\"],\"ScoreDiff\":WR[\"possTeamScoreDiff\"],\"inLead\":WR[\"possTeamInLead\"]})\n",
    "    \n",
    "    \n",
    "    one_play_formatted_list = pd.concat([one_play_formatted_list,one_play], ignore_index = True)\n",
    "    return one_play_formatted_list"
   ]
  },
  {
   "cell_type": "code",
   "execution_count": 48,
   "metadata": {},
   "outputs": [],
   "source": [
    "table_list = pd.DataFrame()\n",
    "for i in range(len(tracking_merged_all.comb_id.unique())):\n",
    "#for i in range(10):\n",
    "    \n",
    "    one_play = tracking_merged_all[tracking_merged_all.comb_id==tracking_merged_all.comb_id.unique()[i]]\n",
    "    one_play = one_play.reset_index(drop=True)\n",
    "    result = one_play_function(one_play)\n",
    "    table_list = pd.concat([table_list,result],ignore_index=True)\n"
   ]
  },
  {
   "cell_type": "code",
   "execution_count": 53,
   "metadata": {},
   "outputs": [
    {
     "data": {
      "text/html": [
       "<div>\n",
       "<style scoped>\n",
       "    .dataframe tbody tr th:only-of-type {\n",
       "        vertical-align: middle;\n",
       "    }\n",
       "\n",
       "    .dataframe tbody tr th {\n",
       "        vertical-align: top;\n",
       "    }\n",
       "\n",
       "    .dataframe thead th {\n",
       "        text-align: right;\n",
       "    }\n",
       "</style>\n",
       "<table border=\"1\" class=\"dataframe\">\n",
       "  <thead>\n",
       "    <tr style=\"text-align: right;\">\n",
       "      <th></th>\n",
       "      <th>comb_id</th>\n",
       "      <th>y</th>\n",
       "      <th>Team</th>\n",
       "      <th>QB_Dist</th>\n",
       "      <th>DB_Dist</th>\n",
       "      <th>Rush_Dist</th>\n",
       "      <th>Orientation</th>\n",
       "      <th>Direction</th>\n",
       "      <th>WR_Speed</th>\n",
       "      <th>down</th>\n",
       "      <th>yardsToGo</th>\n",
       "      <th>yardLine</th>\n",
       "      <th>ScoreDiff</th>\n",
       "      <th>inLead</th>\n",
       "    </tr>\n",
       "  </thead>\n",
       "  <tbody>\n",
       "    <tr>\n",
       "      <th>1</th>\n",
       "      <td>2021090900 97</td>\n",
       "      <td>1</td>\n",
       "      <td>TB</td>\n",
       "      <td>21.005068</td>\n",
       "      <td>21.852380</td>\n",
       "      <td>3.597777</td>\n",
       "      <td>-4.97</td>\n",
       "      <td>-43.93</td>\n",
       "      <td>7.78</td>\n",
       "      <td>3.0</td>\n",
       "      <td>2.0</td>\n",
       "      <td>33.0</td>\n",
       "      <td>0.0</td>\n",
       "      <td>0.0</td>\n",
       "    </tr>\n",
       "    <tr>\n",
       "      <th>2</th>\n",
       "      <td>2021090900 137</td>\n",
       "      <td>0</td>\n",
       "      <td>DAL</td>\n",
       "      <td>22.442197</td>\n",
       "      <td>3.342155</td>\n",
       "      <td>3.635505</td>\n",
       "      <td>91.14</td>\n",
       "      <td>78.49</td>\n",
       "      <td>8.09</td>\n",
       "      <td>1.0</td>\n",
       "      <td>10.0</td>\n",
       "      <td>2.0</td>\n",
       "      <td>0.0</td>\n",
       "      <td>0.0</td>\n",
       "    </tr>\n",
       "    <tr>\n",
       "      <th>5</th>\n",
       "      <td>2021090900 187</td>\n",
       "      <td>0</td>\n",
       "      <td>DAL</td>\n",
       "      <td>13.297128</td>\n",
       "      <td>10.311513</td>\n",
       "      <td>5.019422</td>\n",
       "      <td>-188.21</td>\n",
       "      <td>45.76</td>\n",
       "      <td>0.87</td>\n",
       "      <td>2.0</td>\n",
       "      <td>6.0</td>\n",
       "      <td>34.0</td>\n",
       "      <td>0.0</td>\n",
       "      <td>0.0</td>\n",
       "    </tr>\n",
       "    <tr>\n",
       "      <th>7</th>\n",
       "      <td>2021090900 282</td>\n",
       "      <td>1</td>\n",
       "      <td>DAL</td>\n",
       "      <td>31.066981</td>\n",
       "      <td>11.432047</td>\n",
       "      <td>9.133482</td>\n",
       "      <td>-131.50</td>\n",
       "      <td>45.54</td>\n",
       "      <td>7.64</td>\n",
       "      <td>1.0</td>\n",
       "      <td>10.0</td>\n",
       "      <td>39.0</td>\n",
       "      <td>0.0</td>\n",
       "      <td>0.0</td>\n",
       "    </tr>\n",
       "    <tr>\n",
       "      <th>9</th>\n",
       "      <td>2021090900 349</td>\n",
       "      <td>1</td>\n",
       "      <td>DAL</td>\n",
       "      <td>24.745670</td>\n",
       "      <td>24.050189</td>\n",
       "      <td>5.090864</td>\n",
       "      <td>-98.63</td>\n",
       "      <td>82.09</td>\n",
       "      <td>6.63</td>\n",
       "      <td>3.0</td>\n",
       "      <td>15.0</td>\n",
       "      <td>44.0</td>\n",
       "      <td>0.0</td>\n",
       "      <td>0.0</td>\n",
       "    </tr>\n",
       "    <tr>\n",
       "      <th>...</th>\n",
       "      <td>...</td>\n",
       "      <td>...</td>\n",
       "      <td>...</td>\n",
       "      <td>...</td>\n",
       "      <td>...</td>\n",
       "      <td>...</td>\n",
       "      <td>...</td>\n",
       "      <td>...</td>\n",
       "      <td>...</td>\n",
       "      <td>...</td>\n",
       "      <td>...</td>\n",
       "      <td>...</td>\n",
       "      <td>...</td>\n",
       "      <td>...</td>\n",
       "    </tr>\n",
       "    <tr>\n",
       "      <th>15095</th>\n",
       "      <td>2021110100 4049</td>\n",
       "      <td>1</td>\n",
       "      <td>KC</td>\n",
       "      <td>18.522368</td>\n",
       "      <td>9.683357</td>\n",
       "      <td>16.188480</td>\n",
       "      <td>-294.91</td>\n",
       "      <td>346.33</td>\n",
       "      <td>5.89</td>\n",
       "      <td>1.0</td>\n",
       "      <td>20.0</td>\n",
       "      <td>19.0</td>\n",
       "      <td>0.0</td>\n",
       "      <td>0.0</td>\n",
       "    </tr>\n",
       "    <tr>\n",
       "      <th>15098</th>\n",
       "      <td>2021110100 4071</td>\n",
       "      <td>1</td>\n",
       "      <td>KC</td>\n",
       "      <td>28.425077</td>\n",
       "      <td>13.602151</td>\n",
       "      <td>5.236459</td>\n",
       "      <td>-166.00</td>\n",
       "      <td>11.55</td>\n",
       "      <td>4.68</td>\n",
       "      <td>2.0</td>\n",
       "      <td>20.0</td>\n",
       "      <td>19.0</td>\n",
       "      <td>0.0</td>\n",
       "      <td>0.0</td>\n",
       "    </tr>\n",
       "    <tr>\n",
       "      <th>15099</th>\n",
       "      <td>2021110100 4113</td>\n",
       "      <td>0</td>\n",
       "      <td>KC</td>\n",
       "      <td>15.090692</td>\n",
       "      <td>14.049797</td>\n",
       "      <td>5.780657</td>\n",
       "      <td>-158.79</td>\n",
       "      <td>-40.02</td>\n",
       "      <td>3.11</td>\n",
       "      <td>2.0</td>\n",
       "      <td>15.0</td>\n",
       "      <td>24.0</td>\n",
       "      <td>0.0</td>\n",
       "      <td>0.0</td>\n",
       "    </tr>\n",
       "    <tr>\n",
       "      <th>15101</th>\n",
       "      <td>2021110100 4363</td>\n",
       "      <td>0</td>\n",
       "      <td>NYG</td>\n",
       "      <td>12.744666</td>\n",
       "      <td>14.095960</td>\n",
       "      <td>2.134690</td>\n",
       "      <td>112.08</td>\n",
       "      <td>-5.85</td>\n",
       "      <td>7.73</td>\n",
       "      <td>1.0</td>\n",
       "      <td>10.0</td>\n",
       "      <td>25.0</td>\n",
       "      <td>-3.0</td>\n",
       "      <td>0.0</td>\n",
       "    </tr>\n",
       "    <tr>\n",
       "      <th>15103</th>\n",
       "      <td>2021110100 4411</td>\n",
       "      <td>1</td>\n",
       "      <td>NYG</td>\n",
       "      <td>18.565182</td>\n",
       "      <td>19.699962</td>\n",
       "      <td>2.102047</td>\n",
       "      <td>132.16</td>\n",
       "      <td>-168.00</td>\n",
       "      <td>5.63</td>\n",
       "      <td>3.0</td>\n",
       "      <td>15.0</td>\n",
       "      <td>20.0</td>\n",
       "      <td>-3.0</td>\n",
       "      <td>0.0</td>\n",
       "    </tr>\n",
       "  </tbody>\n",
       "</table>\n",
       "<p>7558 rows × 14 columns</p>\n",
       "</div>"
      ],
      "text/plain": [
       "               comb_id  y Team    QB_Dist    DB_Dist  Rush_Dist  Orientation  \\\n",
       "1        2021090900 97  1   TB  21.005068  21.852380   3.597777        -4.97   \n",
       "2       2021090900 137  0  DAL  22.442197   3.342155   3.635505        91.14   \n",
       "5       2021090900 187  0  DAL  13.297128  10.311513   5.019422      -188.21   \n",
       "7       2021090900 282  1  DAL  31.066981  11.432047   9.133482      -131.50   \n",
       "9       2021090900 349  1  DAL  24.745670  24.050189   5.090864       -98.63   \n",
       "...                ... ..  ...        ...        ...        ...          ...   \n",
       "15095  2021110100 4049  1   KC  18.522368   9.683357  16.188480      -294.91   \n",
       "15098  2021110100 4071  1   KC  28.425077  13.602151   5.236459      -166.00   \n",
       "15099  2021110100 4113  0   KC  15.090692  14.049797   5.780657      -158.79   \n",
       "15101  2021110100 4363  0  NYG  12.744666  14.095960   2.134690       112.08   \n",
       "15103  2021110100 4411  1  NYG  18.565182  19.699962   2.102047       132.16   \n",
       "\n",
       "       Direction  WR_Speed  down  yardsToGo  yardLine  ScoreDiff  inLead  \n",
       "1         -43.93      7.78   3.0        2.0      33.0        0.0     0.0  \n",
       "2          78.49      8.09   1.0       10.0       2.0        0.0     0.0  \n",
       "5          45.76      0.87   2.0        6.0      34.0        0.0     0.0  \n",
       "7          45.54      7.64   1.0       10.0      39.0        0.0     0.0  \n",
       "9          82.09      6.63   3.0       15.0      44.0        0.0     0.0  \n",
       "...          ...       ...   ...        ...       ...        ...     ...  \n",
       "15095     346.33      5.89   1.0       20.0      19.0        0.0     0.0  \n",
       "15098      11.55      4.68   2.0       20.0      19.0        0.0     0.0  \n",
       "15099     -40.02      3.11   2.0       15.0      24.0        0.0     0.0  \n",
       "15101      -5.85      7.73   1.0       10.0      25.0       -3.0     0.0  \n",
       "15103    -168.00      5.63   3.0       15.0      20.0       -3.0     0.0  \n",
       "\n",
       "[7558 rows x 14 columns]"
      ]
     },
     "execution_count": 53,
     "metadata": {},
     "output_type": "execute_result"
    }
   ],
   "source": [
    "table_list[table_list.QB_Speed.isna()].drop(\"QB_Speed\", axis=1)"
   ]
  },
  {
   "cell_type": "code",
   "execution_count": 55,
   "metadata": {},
   "outputs": [],
   "source": [
    "qb_speed = table_list[[\"comb_id\",\"QB_Speed\"]][~table_list.QB_Speed.isna()]\n",
    "tab_2 = table_list[table_list.QB_Speed.isna()].drop(\"QB_Speed\", axis=1)\n",
    "tab_2 = tab_2.merge(qb_speed, on = \"comb_id\")\n",
    "table_list = tab_2"
   ]
  },
  {
   "attachments": {},
   "cell_type": "markdown",
   "metadata": {},
   "source": [
    "Cross Validation with k = 32 by loop through and for each team use as val (remove from training) and store predictions"
   ]
  },
  {
   "cell_type": "code",
   "execution_count": 56,
   "metadata": {},
   "outputs": [],
   "source": [
    "# Define the XGBoost model\n",
    "model = xgb.XGBClassifier()\n",
    "unique_team_list = table_list.Team.unique()\n",
    "prediction_list = []\n",
    "#cross validate leaving out each team once\n",
    "for i in range(len(unique_team_list)):\n",
    "    train = table_list[table_list[\"Team\"]!=unique_team_list[i]]\n",
    "    val = table_list[table_list[\"Team\"]==unique_team_list[i]]\n",
    "    x_train = np.array(train.loc[:, \"QB_Dist\":\"QB_Speed\"])\n",
    "    y_train = np.array(train.loc[:,\"y\"])\n",
    "    model.fit(x_train, y_train)\n",
    "    predictions = model.predict(np.array(table_list.loc[:, \"QB_Dist\":\"QB_Speed\"]))\n",
    "    prediction_list.append(predictions)"
   ]
  },
  {
   "cell_type": "code",
   "execution_count": 57,
   "metadata": {},
   "outputs": [
    {
     "data": {
      "text/plain": [
       "[array([1, 0, 0, ..., 0, 0, 0]),\n",
       " array([1, 1, 0, ..., 0, 0, 0]),\n",
       " array([1, 0, 0, ..., 0, 0, 0]),\n",
       " array([1, 0, 0, ..., 0, 0, 0]),\n",
       " array([1, 0, 0, ..., 0, 0, 0]),\n",
       " array([1, 0, 0, ..., 0, 0, 0]),\n",
       " array([1, 0, 0, ..., 0, 0, 0]),\n",
       " array([1, 0, 0, ..., 0, 0, 0]),\n",
       " array([1, 0, 0, ..., 0, 0, 0]),\n",
       " array([1, 0, 0, ..., 0, 0, 0]),\n",
       " array([1, 0, 0, ..., 0, 0, 0]),\n",
       " array([1, 0, 0, ..., 0, 0, 0]),\n",
       " array([1, 0, 0, ..., 0, 0, 0]),\n",
       " array([1, 0, 0, ..., 0, 0, 0]),\n",
       " array([1, 0, 0, ..., 0, 0, 0]),\n",
       " array([1, 0, 0, ..., 0, 0, 0]),\n",
       " array([1, 0, 0, ..., 0, 0, 1]),\n",
       " array([1, 0, 0, ..., 0, 0, 0]),\n",
       " array([1, 0, 0, ..., 0, 0, 0]),\n",
       " array([1, 0, 0, ..., 0, 0, 0]),\n",
       " array([1, 0, 0, ..., 0, 0, 0]),\n",
       " array([1, 0, 0, ..., 0, 0, 0]),\n",
       " array([1, 0, 0, ..., 0, 0, 0]),\n",
       " array([1, 0, 0, ..., 0, 0, 0]),\n",
       " array([1, 0, 0, ..., 0, 0, 0]),\n",
       " array([1, 0, 0, ..., 0, 0, 1]),\n",
       " array([1, 0, 0, ..., 0, 0, 0]),\n",
       " array([1, 0, 0, ..., 0, 0, 1]),\n",
       " array([1, 0, 0, ..., 0, 0, 1]),\n",
       " array([1, 0, 0, ..., 0, 0, 0]),\n",
       " array([1, 0, 0, ..., 0, 0, 0]),\n",
       " array([1, 0, 0, ..., 0, 0, 0])]"
      ]
     },
     "execution_count": 57,
     "metadata": {},
     "output_type": "execute_result"
    }
   ],
   "source": [
    "prediction_list"
   ]
  },
  {
   "cell_type": "code",
   "execution_count": 58,
   "metadata": {},
   "outputs": [],
   "source": [
    "model_output2 = np.mean(prediction_list, axis=0)"
   ]
  },
  {
   "cell_type": "code",
   "execution_count": 59,
   "metadata": {},
   "outputs": [
    {
     "data": {
      "text/plain": [
       "7558"
      ]
     },
     "execution_count": 59,
     "metadata": {},
     "output_type": "execute_result"
    }
   ],
   "source": [
    "len(model_output2)"
   ]
  },
  {
   "cell_type": "code",
   "execution_count": 60,
   "metadata": {},
   "outputs": [],
   "source": [
    "table_list2 = table_list.copy()\n",
    "table_list2[\"pred\"] = model_output2.tolist()\n",
    "#table_list2.to_csv(\"prediction_output.csv\")"
   ]
  },
  {
   "cell_type": "code",
   "execution_count": 61,
   "metadata": {},
   "outputs": [
    {
     "data": {
      "text/plain": [
       "0.039413819586861604"
      ]
     },
     "execution_count": 61,
     "metadata": {},
     "output_type": "execute_result"
    }
   ],
   "source": [
    "mean_squared_error(table_list2[\"y\"], table_list2[\"pred\"])"
   ]
  },
  {
   "cell_type": "code",
   "execution_count": 62,
   "metadata": {},
   "outputs": [],
   "source": [
    "\n",
    "y_test = table_list2[\"y\"]\n",
    "y_pred = np.where(table_list2[\"pred\"]>.5,1,0)\n",
    "accuracy = accuracy_score(y_test, y_pred)\n",
    "precision = precision_score(y_test, y_pred)\n",
    "recall = recall_score(y_test, y_pred)\n",
    "f1 = f1_score(y_test, y_pred, average='binary')"
   ]
  },
  {
   "cell_type": "code",
   "execution_count": 73,
   "metadata": {},
   "outputs": [
    {
     "name": "stdout",
     "output_type": "stream",
     "text": [
      "0.053982535062185755\n"
     ]
    }
   ],
   "source": [
    "print(1-accuracy)"
   ]
  },
  {
   "cell_type": "code",
   "execution_count": 64,
   "metadata": {},
   "outputs": [
    {
     "name": "stdout",
     "output_type": "stream",
     "text": [
      "0.9836003051106026\n"
     ]
    }
   ],
   "source": [
    "print(precision)"
   ]
  },
  {
   "cell_type": "code",
   "execution_count": 65,
   "metadata": {},
   "outputs": [
    {
     "name": "stdout",
     "output_type": "stream",
     "text": [
      "0.8760190217391305\n"
     ]
    }
   ],
   "source": [
    "print(recall)"
   ]
  },
  {
   "cell_type": "code",
   "execution_count": 66,
   "metadata": {},
   "outputs": [
    {
     "name": "stdout",
     "output_type": "stream",
     "text": [
      "0.9266978081207332\n"
     ]
    }
   ],
   "source": [
    "print(f1)"
   ]
  },
  {
   "cell_type": "code",
   "execution_count": 67,
   "metadata": {},
   "outputs": [
    {
     "name": "stdout",
     "output_type": "stream",
     "text": [
      "              precision    recall  f1-score   support\n",
      "\n",
      "           0       0.93      0.99      0.96      4614\n",
      "           1       0.98      0.88      0.93      2944\n",
      "\n",
      "    accuracy                           0.95      7558\n",
      "   macro avg       0.95      0.93      0.94      7558\n",
      "weighted avg       0.95      0.95      0.95      7558\n",
      "\n"
     ]
    }
   ],
   "source": [
    "print(classification_report(y_test, y_pred))"
   ]
  },
  {
   "cell_type": "code",
   "execution_count": 68,
   "metadata": {},
   "outputs": [
    {
     "data": {
      "text/plain": [
       "0.9333497796168561"
      ]
     },
     "execution_count": 68,
     "metadata": {},
     "output_type": "execute_result"
    }
   ],
   "source": [
    "fpr, tpr, thresholds = roc_curve(y_test, y_pred, pos_label=1)\n",
    "auc(fpr, tpr)"
   ]
  },
  {
   "cell_type": "code",
   "execution_count": 69,
   "metadata": {},
   "outputs": [
    {
     "data": {
      "text/plain": [
       "0.27303068980374573"
      ]
     },
     "execution_count": 69,
     "metadata": {},
     "output_type": "execute_result"
    }
   ],
   "source": [
    "log_loss(y_test,table_list2[\"pred\"])"
   ]
  },
  {
   "cell_type": "code",
   "execution_count": 70,
   "metadata": {},
   "outputs": [
    {
     "data": {
      "image/png": "[encoded data removed]",
      "text/plain": [
       "<Figure size 640x480 with 1 Axes>"
      ]
     },
     "metadata": {},
     "output_type": "display_data"
    }
   ],
   "source": [
    "def plot_roc_curve(fpr,tpr,label=None):\n",
    "    plt.plot(fpr,tpr,linewidth=2,label=\"ROC\")\n",
    "    plt.plot([0,1],[0,1],'k--')\n",
    "plot_roc_curve(fpr,tpr)\n",
    "plt.legend(loc=\"lower right\")\n",
    "plt.show()"
   ]
  },
  {
   "cell_type": "code",
   "execution_count": 71,
   "metadata": {},
   "outputs": [
    {
     "data": {
      "image/png": "[encoded data removed]",
      "text/plain": [
       "<Figure size 640x480 with 1 Axes>"
      ]
     },
     "metadata": {},
     "output_type": "display_data"
    }
   ],
   "source": [
    "precisions,recalls,thresholds = precision_recall_curve(y_test,y_pred)\n",
    "def plot_precision_recall_vs_threshold(precisions,recalls,thresholds):\n",
    "    plt.plot(thresholds,precisions[:-1],\"b--\",label=\"Precision\")\n",
    "    plt.plot(thresholds,recalls[:-1],\"g--\",label=\"Recall\")\n",
    "plot_precision_recall_vs_threshold(precisions,recalls,thresholds)\n",
    "plt.show()"
   ]
  },
  {
   "cell_type": "code",
   "execution_count": null,
   "metadata": {},
   "outputs": [],
   "source": []
  },
  {
   "cell_type": "code",
   "execution_count": 72,
   "metadata": {},
   "outputs": [
    {
     "data": {
      "text/plain": [
       "array([[4571,   43],\n",
       "       [ 365, 2579]], dtype=int64)"
      ]
     },
     "execution_count": 72,
     "metadata": {},
     "output_type": "execute_result"
    }
   ],
   "source": [
    "confusion_matrix(y_test, y_pred)"
   ]
  }
 ],
 "metadata": {
  "kernelspec": {
   "display_name": "Python 3",
   "language": "python",
   "name": "python3"
  },
  "language_info": {
   "codemirror_mode": {
    "name": "ipython",
    "version": 3
   },
   "file_extension": ".py",
   "mimetype": "text/x-python",
   "name": "python",
   "nbconvert_exporter": "python",
   "pygments_lexer": "ipython3",
   "version": "3.9.6"
  },
  "orig_nbformat": 4
 },
 "nbformat": 4,
 "nbformat_minor": 2
}
