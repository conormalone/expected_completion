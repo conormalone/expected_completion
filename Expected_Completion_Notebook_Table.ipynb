{
 "cells": [
  {
   "attachments": {},
   "cell_type": "markdown",
   "metadata": {},
   "source": [
    "# Expected Completion"
   ]
  },
  {
   "cell_type": "code",
   "execution_count": 98,
   "metadata": {},
   "outputs": [],
   "source": [
    "import pandas as pd\n",
    "import numpy as np\n",
    "from scipy.spatial.distance import cdist #function to get distances\n",
    "import xgboost as xgb #gradient boosted decision tree classification method\n",
    "from sklearn.metrics import accuracy_score, precision_score, recall_score, precision_recall_curve, f1_score, classification_report, mean_squared_error, log_loss,confusion_matrix #metrics to assess model"
   ]
  },
  {
   "cell_type": "code",
   "execution_count": 3,
   "metadata": {},
   "outputs": [],
   "source": [
    "plays = pd.read_csv(\"data/pass_receiver.csv\")\n",
    "pff = pd.read_csv(\"data/pffScoutingData.csv\")\n",
    "games = pd.read_csv(\"data/games.csv\")"
   ]
  },
  {
   "attachments": {},
   "cell_type": "markdown",
   "metadata": {},
   "source": [
    "read in weekly tracking files and concatenate into one tracking file, then delete weeklies"
   ]
  },
  {
   "cell_type": "code",
   "execution_count": 4,
   "metadata": {},
   "outputs": [],
   "source": [
    "week1 = pd.read_csv(\"data/week1.csv\")\n",
    "week2 = pd.read_csv(\"data/week2.csv\")\n",
    "week3 = pd.read_csv(\"data/week3.csv\")\n",
    "week4 = pd.read_csv(\"data/week4.csv\")\n",
    "week5 = pd.read_csv(\"data/week5.csv\")\n",
    "week6 = pd.read_csv(\"data/week6.csv\")\n",
    "week7 = pd.read_csv(\"data/week7.csv\")\n",
    "week8 = pd.read_csv(\"data/week8.csv\")\n",
    "tracking = pd.concat([week1,week2,week3,week4,week5,week6,week7,week8])\n"
   ]
  },
  {
   "cell_type": "code",
   "execution_count": 5,
   "metadata": {},
   "outputs": [],
   "source": [
    "#save memory\n",
    "del week1,week2,week3,week4,week5,week6,week7,week8"
   ]
  },
  {
   "cell_type": "code",
   "execution_count": 6,
   "metadata": {},
   "outputs": [],
   "source": [
    "plays = plays.merge(games[[\"gameId\",\"homeTeamAbbr\"]], on = \"gameId\")\n",
    "plays[\"possTeamScoreDiff\"] = np.where(plays[\"homeTeamAbbr\"]==plays[\"possessionTeam\"],plays[\"preSnapHomeScore\"]-plays[\"preSnapVisitorScore\"],plays[\"preSnapVisitorScore\"]-plays[\"preSnapHomeScore\"])\n",
    "plays[\"possTeamInLead\"] = np.where(plays[\"possTeamScoreDiff\"]>0,1,0)"
   ]
  },
  {
   "attachments": {},
   "cell_type": "markdown",
   "metadata": {},
   "source": [
    "add unique identifier of each play and frame (some playIds repeat over games)"
   ]
  },
  {
   "cell_type": "code",
   "execution_count": 7,
   "metadata": {},
   "outputs": [],
   "source": [
    "tracking[\"comb_id\"] = tracking[\"gameId\"].astype(\"str\")+\" \"+tracking[\"playId\"].astype(\"str\")\n",
    "pff[\"comb_id\"] = pff[\"gameId\"].astype(\"str\")+\" \"+pff[\"playId\"].astype(\"str\")\n",
    "plays[\"comb_id\"] = plays[\"gameId\"].astype(\"str\")+\" \"+plays[\"playId\"].astype(\"str\")\n",
    "tracking[\"comb_and_frame\"] = tracking[\"gameId\"].astype(\"str\")+\" \"+tracking[\"playId\"].astype(\"str\")+\" \"+tracking[\"frameId\"].astype(\"str\")"
   ]
  },
  {
   "attachments": {},
   "cell_type": "markdown",
   "metadata": {},
   "source": [
    "isolate frames at time of pass"
   ]
  },
  {
   "cell_type": "code",
   "execution_count": 8,
   "metadata": {},
   "outputs": [],
   "source": [
    "#isolate just forward passes and leave out a certain frame (duplicate forward pass for a play)\n",
    "just_forward_passes = tracking[(tracking[\"event\"]==\"pass_forward\") & (tracking[\"comb_and_frame\"]!=\"2021091203 3740 32\")& (tracking[\"team\"]!=\"football\")]\n",
    "#bring in receiver info from plays\n",
    "tracking_plays =just_forward_passes.merge(plays[[\"comb_id\",\"possessionTeam\",\"is_pass_failed\",\"PassReceiver_nflId\",\"down\",\"yardsToGo\",\"yardlineNumber\",\"possTeamScoreDiff\",\"possTeamInLead\"]], how=\"left\",on=\"comb_id\" )\n",
    "#and qb info from pff\n",
    "tracking_merged_all = tracking_plays.merge(pff[[\"comb_id\",\"nflId\",\"pff_role\"]], how = \"left\",on=[\"comb_id\",\"nflId\"])"
   ]
  },
  {
   "attachments": {},
   "cell_type": "markdown",
   "metadata": {},
   "source": [
    "isolate tracking to just QB, OL, receiver and defense"
   ]
  },
  {
   "attachments": {},
   "cell_type": "markdown",
   "metadata": {},
   "source": [
    "# Function to take in 1 pass play and  format it"
   ]
  },
  {
   "cell_type": "code",
   "execution_count": 55,
   "metadata": {},
   "outputs": [],
   "source": [
    "def one_play_function(data):\n",
    "    one_play_formatted_list = pd.DataFrame()#{\"y\",\"Team\",\"QB_Dist\",\"DB_Dist\",\"Orientation\",\"Direction\",\"Speed\",\"down\",\"yardsToGo\",\"yardLine\",\"ScoreDiff\",\"inLead\"})\n",
    "    data = data.reset_index(drop=True)\n",
    "    comb_id = data[\"comb_id\"][0]\n",
    "    #get y, the response variable for this play (binary pass completed or not) and possesionteam (for CV)\n",
    "    y = data[\"is_pass_failed\"][0]\n",
    "    team = data[\"possessionTeam\"][0]\n",
    "    QB = data[data[\"pff_role\"]==\"Pass\"]\n",
    "    WR = data[data[\"nflId\"]==data[\"PassReceiver_nflId\"]]\n",
    "    #if no clear receiver just pick anyone\n",
    "    if len(WR)==0:\n",
    "        WR = data[data[\"pff_role\"]==\"Pass Route\"].head(1)\n",
    " \n",
    "    qb_loc = QB[[\"x\",\"y\"]]\n",
    "    wr_loc = WR[[\"x\",\"y\"]]\n",
    "    coverage_loc = data[[\"x\",\"y\"]][data[\"pff_role\"]==\"Coverage\"]\n",
    "    #put play in adjacency matrix format, the distance of all players to each other (this will then be filtered to just link relevant players to QB or WR)\n",
    "    QB_dist = cdist(qb_loc.values,wr_loc.values)[0]\n",
    "    Coverage_dist = min((i for i in cdist(coverage_loc.values,wr_loc.values)[0] if i is not None),default=[])\n",
    "    \n",
    "    #then put play in features format, getting a table containing position, speed, orientation etc\n",
    "    rel_o = WR[\"o\"].iloc[0]-QB[\"o\"].iloc[0]\n",
    "    rel_dir = WR[\"dir\"].iloc[0]-QB[\"dir\"].iloc[0]\n",
    "    s = WR[\"s\"]\n",
    "    one_play = pd.DataFrame({\"comb_id\":comb_id,\"y\":y,\"Team\":team,\"QB_Dist\":QB_dist,\"DB_Dist\":Coverage_dist,\"Orientation\":rel_o,\"Direction\":rel_dir,\"Speed\":s,\"down\":WR[\"down\"],\"yardsToGo\":WR[\"yardsToGo\"],\"yardLine\":WR[\"yardlineNumber\"],\"ScoreDiff\":WR[\"possTeamScoreDiff\"],\"inLead\":WR[\"possTeamInLead\"]})\n",
    "    #data = data[[\"onPossessionTeam\",\"frameId\",\"s\",\"rel_dir\",\"rel_o\",\"pff_role\",\"down\",\"yardsToGo\",\"yardlineNumber\",\"possTeamScoreDiff\",\"possTeamInLead\"]]\n",
    "    \n",
    "    one_play_formatted_list = pd.concat([one_play_formatted_list,one_play], ignore_index = True)\n",
    "    return one_play_formatted_list"
   ]
  },
  {
   "cell_type": "code",
   "execution_count": 56,
   "metadata": {},
   "outputs": [],
   "source": [
    "table_list = pd.DataFrame()\n",
    "for i in range(len(tracking_merged_all.comb_id.unique())):\n",
    "#for i in range(10):\n",
    "    \n",
    "    one_play = tracking_merged_all[tracking_merged_all.comb_id==tracking_merged_all.comb_id.unique()[i]]\n",
    "    one_play = one_play.reset_index(drop=True)\n",
    "    result = one_play_function(one_play)\n",
    "    table_list = pd.concat([table_list,result],ignore_index=True)\n"
   ]
  },
  {
   "attachments": {},
   "cell_type": "markdown",
   "metadata": {},
   "source": [
    "Cross Validation with k = 32 by loop through and for each team use as val (remove from training) and store predictions"
   ]
  },
  {
   "cell_type": "code",
   "execution_count": 47,
   "metadata": {},
   "outputs": [],
   "source": [
    "# Define the XGBoost model\n",
    "model = xgb.XGBClassifier()\n",
    "unique_team_list = table_list.Team.unique()\n",
    "prediction_list = []\n",
    "#cross validate leaving out each team once\n",
    "for i in range(len(unique_team_list)):\n",
    "    train = table_list[table_list[\"Team\"]!=unique_team_list[i]]\n",
    "    val = table_list[table_list[\"Team\"]==unique_team_list[i]]\n",
    "    x_train = np.array(train.loc[:, \"DB_Dist\":\"inLead\"])\n",
    "    y_train = np.array(train.loc[:,\"y\"])\n",
    "    model.fit(x_train, y_train)\n",
    "    predictions = model.predict(np.array(table_list.loc[:, \"DB_Dist\":\"inLead\"]))\n",
    "    prediction_list.append(predictions)"
   ]
  },
  {
   "cell_type": "code",
   "execution_count": 48,
   "metadata": {},
   "outputs": [],
   "source": [
    "model_output2 = np.mean(prediction_list, axis=0)"
   ]
  },
  {
   "cell_type": "code",
   "execution_count": 54,
   "metadata": {},
   "outputs": [
    {
     "data": {
      "text/plain": [
       "7558"
      ]
     },
     "execution_count": 54,
     "metadata": {},
     "output_type": "execute_result"
    }
   ],
   "source": [
    "len(model_output2)"
   ]
  },
  {
   "cell_type": "code",
   "execution_count": 58,
   "metadata": {},
   "outputs": [],
   "source": [
    "table_list2 = table_list.copy()\n",
    "table_list2[\"pred\"] = model_output2.tolist()\n",
    "#table_list2.to_csv(\"prediction_output.csv\")"
   ]
  },
  {
   "cell_type": "code",
   "execution_count": 60,
   "metadata": {},
   "outputs": [
    {
     "data": {
      "text/plain": [
       "0.07283569562053453"
      ]
     },
     "execution_count": 60,
     "metadata": {},
     "output_type": "execute_result"
    }
   ],
   "source": [
    "mean_squared_error(table_list2[\"y\"], table_list2[\"pred\"])"
   ]
  },
  {
   "cell_type": "code",
   "execution_count": 73,
   "metadata": {},
   "outputs": [],
   "source": [
    "\n",
    "y_test = table_list2[\"y\"]\n",
    "y_pred = np.where(table_list2[\"pred\"]>.5,1,0)\n",
    "accuracy = accuracy_score(y_test, y_pred)\n",
    "precision = precision_score(y_test, y_pred)\n",
    "recall = recall_score(y_test, y_pred)\n",
    "f1 = f1_score(y_test, y_pred, average='binary')"
   ]
  },
  {
   "cell_type": "code",
   "execution_count": 96,
   "metadata": {},
   "outputs": [
    {
     "name": "stdout",
     "output_type": "stream",
     "text": [
      "0.9001058481079651\n"
     ]
    }
   ],
   "source": [
    "print(accuracy)"
   ]
  },
  {
   "cell_type": "code",
   "execution_count": 70,
   "metadata": {},
   "outputs": [
    {
     "name": "stdout",
     "output_type": "stream",
     "text": [
      "0.9635747564591275\n"
     ]
    }
   ],
   "source": [
    "print(precision)"
   ]
  },
  {
   "cell_type": "code",
   "execution_count": 71,
   "metadata": {},
   "outputs": [
    {
     "name": "stdout",
     "output_type": "stream",
     "text": [
      "0.7727581521739131\n"
     ]
    }
   ],
   "source": [
    "print(recall)"
   ]
  },
  {
   "cell_type": "code",
   "execution_count": 69,
   "metadata": {},
   "outputs": [
    {
     "name": "stdout",
     "output_type": "stream",
     "text": [
      "0.8576814326107446\n"
     ]
    }
   ],
   "source": [
    "print(f1)"
   ]
  },
  {
   "cell_type": "code",
   "execution_count": 76,
   "metadata": {},
   "outputs": [
    {
     "name": "stdout",
     "output_type": "stream",
     "text": [
      "              precision    recall  f1-score   support\n",
      "\n",
      "           0       0.87      0.98      0.92      4614\n",
      "           1       0.96      0.77      0.86      2944\n",
      "\n",
      "    accuracy                           0.90      7558\n",
      "   macro avg       0.92      0.88      0.89      7558\n",
      "weighted avg       0.91      0.90      0.90      7558\n",
      "\n"
     ]
    }
   ],
   "source": [
    "print(classification_report(y_test, y_pred))"
   ]
  },
  {
   "cell_type": "code",
   "execution_count": 77,
   "metadata": {},
   "outputs": [
    {
     "data": {
      "text/plain": [
       "0.8770596135815383"
      ]
     },
     "execution_count": 77,
     "metadata": {},
     "output_type": "execute_result"
    }
   ],
   "source": [
    "fpr, tpr, thresholds = metrics.roc_curve(y_test, y_pred, pos_label=1)\n",
    "metrics.auc(fpr, tpr)"
   ]
  },
  {
   "cell_type": "code",
   "execution_count": 89,
   "metadata": {},
   "outputs": [
    {
     "data": {
      "text/plain": [
       "0.6850514405848838"
      ]
     },
     "execution_count": 89,
     "metadata": {},
     "output_type": "execute_result"
    }
   ],
   "source": [
    "log_loss(y_test,table_list2[\"pred\"])"
   ]
  },
  {
   "cell_type": "code",
   "execution_count": 94,
   "metadata": {},
   "outputs": [
    {
     "data": {
      "image/png": "[encoded data removed]",
      "text/plain": [
       "<Figure size 640x480 with 1 Axes>"
      ]
     },
     "metadata": {},
     "output_type": "display_data"
    }
   ],
   "source": [
    "def plot_roc_curve(fpr,tpr,label=None):\n",
    "    plt.plot(fpr,tpr,linewidth=2,label=\"ROC\")\n",
    "    plt.plot([0,1],[0,1],'k--')\n",
    "plot_roc_curve(fpr,tpr)\n",
    "plt.legend(loc=\"lower right\")\n",
    "plt.show()"
   ]
  },
  {
   "cell_type": "code",
   "execution_count": 85,
   "metadata": {},
   "outputs": [
    {
     "data": {
      "image/png": "[encoded data removed]",
      "text/plain": [
       "<Figure size 640x480 with 1 Axes>"
      ]
     },
     "metadata": {},
     "output_type": "display_data"
    }
   ],
   "source": [
    "precisions,recalls,thresholds = precision_recall_curve(y_test,y_pred)\n",
    "def plot_precision_recall_vs_threshold(precisions,recalls,thresholds):\n",
    "    plt.plot(thresholds,precisions[:-1],\"b--\",label=\"Precision\")\n",
    "    plt.plot(thresholds,recalls[:-1],\"g--\",label=\"Recall\")\n",
    "plot_precision_recall_vs_threshold(precisions,recalls,thresholds)\n",
    "plt.show()"
   ]
  },
  {
   "cell_type": "code",
   "execution_count": null,
   "metadata": {},
   "outputs": [],
   "source": []
  },
  {
   "cell_type": "code",
   "execution_count": 99,
   "metadata": {},
   "outputs": [
    {
     "data": {
      "text/plain": [
       "array([[4528,   86],\n",
       "       [ 669, 2275]], dtype=int64)"
      ]
     },
     "execution_count": 99,
     "metadata": {},
     "output_type": "execute_result"
    }
   ],
   "source": [
    "confusion_matrix(y_test, y_pred)"
   ]
  }
 ],
 "metadata": {
  "kernelspec": {
   "display_name": "Python 3",
   "language": "python",
   "name": "python3"
  },
  "language_info": {
   "codemirror_mode": {
    "name": "ipython",
    "version": 3
   },
   "file_extension": ".py",
   "mimetype": "text/x-python",
   "name": "python",
   "nbconvert_exporter": "python",
   "pygments_lexer": "ipython3",
   "version": "3.9.6"
  },
  "orig_nbformat": 4
 },
 "nbformat": 4,
 "nbformat_minor": 2
}
